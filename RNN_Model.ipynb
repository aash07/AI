{
 "cells": [
  {
   "cell_type": "code",
   "execution_count": 1,
   "metadata": {},
   "outputs": [
    {
     "name": "stderr",
     "output_type": "stream",
     "text": [
      "In C:\\Users\\rahul\\.conda\\envs\\tsa_course\\lib\\site-packages\\matplotlib\\mpl-data\\stylelib\\_classic_test.mplstyle: \n",
      "The savefig.frameon rcparam was deprecated in Matplotlib 3.1 and will be removed in 3.3.\n",
      "In C:\\Users\\rahul\\.conda\\envs\\tsa_course\\lib\\site-packages\\matplotlib\\mpl-data\\stylelib\\_classic_test.mplstyle: \n",
      "The verbose.level rcparam was deprecated in Matplotlib 3.1 and will be removed in 3.3.\n",
      "In C:\\Users\\rahul\\.conda\\envs\\tsa_course\\lib\\site-packages\\matplotlib\\mpl-data\\stylelib\\_classic_test.mplstyle: \n",
      "The verbose.fileo rcparam was deprecated in Matplotlib 3.1 and will be removed in 3.3.\n"
     ]
    }
   ],
   "source": [
    "import pandas as pd\n",
    "import numpy as np\n",
    "%matplotlib inline\n",
    "import matplotlib.pyplot as plt\n",
    "from datetime import datetime\n",
    "import math"
   ]
  },
  {
   "cell_type": "code",
   "execution_count": 2,
   "metadata": {},
   "outputs": [],
   "source": [
    "df = pd.read_csv('AirQuality.csv', parse_dates=True, index_col='From Date')"
   ]
  },
  {
   "cell_type": "code",
   "execution_count": 3,
   "metadata": {},
   "outputs": [
    {
     "data": {
      "text/html": [
       "<div>\n",
       "<style scoped>\n",
       "    .dataframe tbody tr th:only-of-type {\n",
       "        vertical-align: middle;\n",
       "    }\n",
       "\n",
       "    .dataframe tbody tr th {\n",
       "        vertical-align: top;\n",
       "    }\n",
       "\n",
       "    .dataframe thead th {\n",
       "        text-align: right;\n",
       "    }\n",
       "</style>\n",
       "<table border=\"1\" class=\"dataframe\">\n",
       "  <thead>\n",
       "    <tr style=\"text-align: right;\">\n",
       "      <th></th>\n",
       "      <th>CO</th>\n",
       "      <th>NO</th>\n",
       "      <th>NO2</th>\n",
       "      <th>SO2</th>\n",
       "      <th>ozone</th>\n",
       "      <th>weekday</th>\n",
       "      <th>PM25</th>\n",
       "    </tr>\n",
       "    <tr>\n",
       "      <th>From Date</th>\n",
       "      <th></th>\n",
       "      <th></th>\n",
       "      <th></th>\n",
       "      <th></th>\n",
       "      <th></th>\n",
       "      <th></th>\n",
       "      <th></th>\n",
       "    </tr>\n",
       "  </thead>\n",
       "  <tbody>\n",
       "    <tr>\n",
       "      <th>2019-05-01</th>\n",
       "      <td>0.93</td>\n",
       "      <td>3.40</td>\n",
       "      <td>41.20</td>\n",
       "      <td>3.13</td>\n",
       "      <td>40.99</td>\n",
       "      <td>2</td>\n",
       "      <td>120.54</td>\n",
       "    </tr>\n",
       "    <tr>\n",
       "      <th>2019-05-02</th>\n",
       "      <td>0.72</td>\n",
       "      <td>4.04</td>\n",
       "      <td>23.08</td>\n",
       "      <td>2.67</td>\n",
       "      <td>38.39</td>\n",
       "      <td>3</td>\n",
       "      <td>74.99</td>\n",
       "    </tr>\n",
       "    <tr>\n",
       "      <th>2019-05-03</th>\n",
       "      <td>0.87</td>\n",
       "      <td>3.62</td>\n",
       "      <td>20.78</td>\n",
       "      <td>2.14</td>\n",
       "      <td>41.14</td>\n",
       "      <td>4</td>\n",
       "      <td>79.15</td>\n",
       "    </tr>\n",
       "  </tbody>\n",
       "</table>\n",
       "</div>"
      ],
      "text/plain": [
       "              CO    NO    NO2   SO2  ozone  weekday    PM25\n",
       "From Date                                                  \n",
       "2019-05-01  0.93  3.40  41.20  3.13  40.99        2  120.54\n",
       "2019-05-02  0.72  4.04  23.08  2.67  38.39        3   74.99\n",
       "2019-05-03  0.87  3.62  20.78  2.14  41.14        4   79.15"
      ]
     },
     "execution_count": 3,
     "metadata": {},
     "output_type": "execute_result"
    }
   ],
   "source": [
    "df.head(3)"
   ]
  },
  {
   "cell_type": "code",
   "execution_count": 4,
   "metadata": {},
   "outputs": [
    {
     "name": "stdout",
     "output_type": "stream",
     "text": [
      "<class 'pandas.core.frame.DataFrame'>\n",
      "DatetimeIndex: 373 entries, 2019-05-01 to 2020-05-07\n",
      "Data columns (total 7 columns):\n",
      "CO         373 non-null float64\n",
      "NO         373 non-null float64\n",
      "NO2        373 non-null float64\n",
      "SO2        373 non-null float64\n",
      "ozone      373 non-null float64\n",
      "weekday    373 non-null int64\n",
      "PM25       373 non-null float64\n",
      "dtypes: float64(6), int64(1)\n",
      "memory usage: 23.3 KB\n"
     ]
    }
   ],
   "source": [
    "df.info()"
   ]
  },
  {
   "cell_type": "code",
   "execution_count": 5,
   "metadata": {},
   "outputs": [],
   "source": [
    "df.index.freq = 'd'"
   ]
  },
  {
   "cell_type": "code",
   "execution_count": 6,
   "metadata": {},
   "outputs": [
    {
     "data": {
      "text/html": [
       "<div>\n",
       "<style scoped>\n",
       "    .dataframe tbody tr th:only-of-type {\n",
       "        vertical-align: middle;\n",
       "    }\n",
       "\n",
       "    .dataframe tbody tr th {\n",
       "        vertical-align: top;\n",
       "    }\n",
       "\n",
       "    .dataframe thead th {\n",
       "        text-align: right;\n",
       "    }\n",
       "</style>\n",
       "<table border=\"1\" class=\"dataframe\">\n",
       "  <thead>\n",
       "    <tr style=\"text-align: right;\">\n",
       "      <th></th>\n",
       "      <th>CO</th>\n",
       "      <th>NO</th>\n",
       "      <th>NO2</th>\n",
       "      <th>SO2</th>\n",
       "      <th>ozone</th>\n",
       "      <th>weekday</th>\n",
       "      <th>PM25</th>\n",
       "    </tr>\n",
       "    <tr>\n",
       "      <th>From Date</th>\n",
       "      <th></th>\n",
       "      <th></th>\n",
       "      <th></th>\n",
       "      <th></th>\n",
       "      <th></th>\n",
       "      <th></th>\n",
       "      <th></th>\n",
       "    </tr>\n",
       "  </thead>\n",
       "  <tbody>\n",
       "    <tr>\n",
       "      <th>2020-05-03</th>\n",
       "      <td>0.90</td>\n",
       "      <td>3.40</td>\n",
       "      <td>22.42</td>\n",
       "      <td>7.13</td>\n",
       "      <td>36.69</td>\n",
       "      <td>6</td>\n",
       "      <td>24.44</td>\n",
       "    </tr>\n",
       "    <tr>\n",
       "      <th>2020-05-04</th>\n",
       "      <td>0.84</td>\n",
       "      <td>3.54</td>\n",
       "      <td>24.72</td>\n",
       "      <td>8.24</td>\n",
       "      <td>39.38</td>\n",
       "      <td>0</td>\n",
       "      <td>28.59</td>\n",
       "    </tr>\n",
       "    <tr>\n",
       "      <th>2020-05-05</th>\n",
       "      <td>0.97</td>\n",
       "      <td>3.60</td>\n",
       "      <td>22.57</td>\n",
       "      <td>6.88</td>\n",
       "      <td>42.06</td>\n",
       "      <td>1</td>\n",
       "      <td>29.79</td>\n",
       "    </tr>\n",
       "    <tr>\n",
       "      <th>2020-05-06</th>\n",
       "      <td>0.96</td>\n",
       "      <td>3.57</td>\n",
       "      <td>22.64</td>\n",
       "      <td>8.10</td>\n",
       "      <td>36.58</td>\n",
       "      <td>2</td>\n",
       "      <td>24.87</td>\n",
       "    </tr>\n",
       "    <tr>\n",
       "      <th>2020-05-07</th>\n",
       "      <td>1.05</td>\n",
       "      <td>3.56</td>\n",
       "      <td>24.49</td>\n",
       "      <td>10.42</td>\n",
       "      <td>33.65</td>\n",
       "      <td>3</td>\n",
       "      <td>27.04</td>\n",
       "    </tr>\n",
       "  </tbody>\n",
       "</table>\n",
       "</div>"
      ],
      "text/plain": [
       "              CO    NO    NO2    SO2  ozone  weekday   PM25\n",
       "From Date                                                  \n",
       "2020-05-03  0.90  3.40  22.42   7.13  36.69        6  24.44\n",
       "2020-05-04  0.84  3.54  24.72   8.24  39.38        0  28.59\n",
       "2020-05-05  0.97  3.60  22.57   6.88  42.06        1  29.79\n",
       "2020-05-06  0.96  3.57  22.64   8.10  36.58        2  24.87\n",
       "2020-05-07  1.05  3.56  24.49  10.42  33.65        3  27.04"
      ]
     },
     "execution_count": 6,
     "metadata": {},
     "output_type": "execute_result"
    }
   ],
   "source": [
    "df.tail()"
   ]
  },
  {
   "cell_type": "code",
   "execution_count": 7,
   "metadata": {},
   "outputs": [],
   "source": [
    "df.drop('weekday',axis=1,inplace=True)"
   ]
  },
  {
   "cell_type": "code",
   "execution_count": 8,
   "metadata": {},
   "outputs": [
    {
     "data": {
      "text/plain": [
       "373"
      ]
     },
     "execution_count": 8,
     "metadata": {},
     "output_type": "execute_result"
    }
   ],
   "source": [
    "len(df.index)"
   ]
  },
  {
   "cell_type": "code",
   "execution_count": 9,
   "metadata": {},
   "outputs": [],
   "source": [
    "df_CO = pd.DataFrame(df['CO'])"
   ]
  },
  {
   "cell_type": "code",
   "execution_count": 10,
   "metadata": {},
   "outputs": [],
   "source": [
    "#df_CO.head(2)"
   ]
  },
  {
   "cell_type": "code",
   "execution_count": 11,
   "metadata": {},
   "outputs": [],
   "source": [
    "from statsmodels.tsa.seasonal import seasonal_decompose"
   ]
  },
  {
   "cell_type": "code",
   "execution_count": 144,
   "metadata": {},
   "outputs": [
    {
     "data": {
      "image/png": "[encoded data removed]",
      "text/plain": [
       "<Figure size 432x288 with 4 Axes>"
      ]
     },
     "metadata": {
      "needs_background": "light"
     },
     "output_type": "display_data"
    }
   ],
   "source": [
    "x= seasonal_decompose(df_CO, model='additive')\n",
    "x.plot();"
   ]
  },
  {
   "cell_type": "code",
   "execution_count": 12,
   "metadata": {},
   "outputs": [
    {
     "data": {
      "text/plain": [
       "<matplotlib.axes._subplots.AxesSubplot at 0x24550ec7c50>"
      ]
     },
     "execution_count": 12,
     "metadata": {},
     "output_type": "execute_result"
    },
    {
     "data": {
      "image/png": "[encoded data removed]",
      "text/plain": [
       "<Figure size 864x144 with 1 Axes>"
      ]
     },
     "metadata": {
      "needs_background": "light"
     },
     "output_type": "display_data"
    }
   ],
   "source": [
    "results_CO = seasonal_decompose(df_CO)\n",
    "results_CO.observed.plot(figsize=(12,2))"
   ]
  },
  {
   "cell_type": "code",
   "execution_count": 13,
   "metadata": {},
   "outputs": [
    {
     "data": {
      "text/plain": [
       "<matplotlib.axes._subplots.AxesSubplot at 0x24553090390>"
      ]
     },
     "execution_count": 13,
     "metadata": {},
     "output_type": "execute_result"
    },
    {
     "data": {
      "image/png": "[encoded data removed]",
      "text/plain": [
       "<Figure size 864x144 with 1 Axes>"
      ]
     },
     "metadata": {
      "needs_background": "light"
     },
     "output_type": "display_data"
    }
   ],
   "source": [
    "results_CO.trend.plot(figsize=(12,2))"
   ]
  },
  {
   "cell_type": "code",
   "execution_count": 14,
   "metadata": {},
   "outputs": [
    {
     "data": {
      "text/plain": [
       "<matplotlib.axes._subplots.AxesSubplot at 0x245531976a0>"
      ]
     },
     "execution_count": 14,
     "metadata": {},
     "output_type": "execute_result"
    },
    {
     "data": {
      "image/png": "[encoded data removed]",
      "text/plain": [
       "<Figure size 2160x360 with 1 Axes>"
      ]
     },
     "metadata": {
      "needs_background": "light"
     },
     "output_type": "display_data"
    }
   ],
   "source": [
    "results_CO.seasonal.plot(figsize=(30,5))"
   ]
  },
  {
   "cell_type": "code",
   "execution_count": 15,
   "metadata": {},
   "outputs": [
    {
     "data": {
      "text/plain": [
       "<matplotlib.axes._subplots.AxesSubplot at 0x245535bb048>"
      ]
     },
     "execution_count": 15,
     "metadata": {},
     "output_type": "execute_result"
    },
    {
     "data": {
      "image/png": "[encoded data removed]",
      "text/plain": [
       "<Figure size 864x144 with 1 Axes>"
      ]
     },
     "metadata": {
      "needs_background": "light"
     },
     "output_type": "display_data"
    }
   ],
   "source": [
    "results_CO.resid.plot(figsize=(12,2))"
   ]
  },
  {
   "cell_type": "code",
   "execution_count": 16,
   "metadata": {},
   "outputs": [
    {
     "data": {
      "text/plain": [
       "373"
      ]
     },
     "execution_count": 16,
     "metadata": {},
     "output_type": "execute_result"
    }
   ],
   "source": [
    "len(df_CO)"
   ]
  },
  {
   "cell_type": "code",
   "execution_count": 17,
   "metadata": {},
   "outputs": [
    {
     "data": {
      "text/plain": [
       "366"
      ]
     },
     "execution_count": 17,
     "metadata": {},
     "output_type": "execute_result"
    }
   ],
   "source": [
    "373-7"
   ]
  },
  {
   "cell_type": "code",
   "execution_count": 18,
   "metadata": {},
   "outputs": [],
   "source": [
    "train_CO = df_CO.iloc[:366]\n",
    "test_CO = df_CO.iloc[366:]"
   ]
  },
  {
   "cell_type": "code",
   "execution_count": 19,
   "metadata": {},
   "outputs": [],
   "source": [
    "from sklearn.preprocessing import MinMaxScaler"
   ]
  },
  {
   "cell_type": "code",
   "execution_count": 20,
   "metadata": {},
   "outputs": [],
   "source": [
    "scaler_CO = MinMaxScaler()"
   ]
  },
  {
   "cell_type": "code",
   "execution_count": 21,
   "metadata": {},
   "outputs": [
    {
     "data": {
      "text/plain": [
       "MinMaxScaler(copy=True, feature_range=(0, 1))"
      ]
     },
     "execution_count": 21,
     "metadata": {},
     "output_type": "execute_result"
    }
   ],
   "source": [
    "# IGNORE WARNING ITS JUST CONVERTING TO FLOATS\n",
    "# WE ONLY FIT TO TRAININ DATA, OTHERWISE WE ARE CHEATING ASSUMING INFO ABOUT TEST SET\n",
    "scaler_CO.fit(train_CO)"
   ]
  },
  {
   "cell_type": "code",
   "execution_count": 22,
   "metadata": {},
   "outputs": [],
   "source": [
    "scaled_train_CO = scaler_CO.transform(train_CO)\n",
    "scaled_test_CO = scaler_CO.transform(test_CO)"
   ]
  },
  {
   "cell_type": "code",
   "execution_count": 23,
   "metadata": {},
   "outputs": [],
   "source": [
    "from keras.preprocessing.sequence import TimeseriesGenerator"
   ]
  },
  {
   "cell_type": "code",
   "execution_count": 24,
   "metadata": {},
   "outputs": [
    {
     "data": {
      "text/plain": [
       "array([[0.2943038 ],\n",
       "       [0.2278481 ],\n",
       "       [0.27531646],\n",
       "       [0.29113924],\n",
       "       [0.13924051],\n",
       "       [0.26582278],\n",
       "       [0.15822785],\n",
       "       [0.25316456],\n",
       "       [0.94620253],\n",
       "       [0.31012658],\n",
       "       [0.34810127],\n",
       "       [0.44936709],\n",
       "       [0.31329114],\n",
       "       [0.39873418],\n",
       "       [0.31962025],\n",
       "       [0.47151899],\n",
       "       [0.34493671],\n",
       "       [0.27848101],\n",
       "       [0.24683544],\n",
       "       [0.28797468],\n",
       "       [0.25316456],\n",
       "       [0.34810127],\n",
       "       [0.2721519 ],\n",
       "       [0.26265823],\n",
       "       [0.24683544],\n",
       "       [0.20886076],\n",
       "       [0.3164557 ],\n",
       "       [0.32594937],\n",
       "       [0.26582278],\n",
       "       [0.23734177],\n",
       "       [0.23734177],\n",
       "       [0.33860759],\n",
       "       [0.26265823],\n",
       "       [0.27848101],\n",
       "       [0.31329114],\n",
       "       [0.27531646],\n",
       "       [0.33860759],\n",
       "       [0.26265823],\n",
       "       [0.30696203],\n",
       "       [0.25632911],\n",
       "       [0.23734177],\n",
       "       [0.23417722],\n",
       "       [0.23101266],\n",
       "       [0.23734177],\n",
       "       [0.23101266],\n",
       "       [0.27531646],\n",
       "       [0.26898734],\n",
       "       [0.17721519],\n",
       "       [0.36392405],\n",
       "       [0.24683544],\n",
       "       [0.19303797],\n",
       "       [0.22468354],\n",
       "       [0.20886076],\n",
       "       [0.18037975],\n",
       "       [0.24683544],\n",
       "       [0.21518987],\n",
       "       [0.19303797],\n",
       "       [0.23734177],\n",
       "       [0.2056962 ],\n",
       "       [0.2056962 ],\n",
       "       [0.18987342],\n",
       "       [0.24367089],\n",
       "       [0.19620253],\n",
       "       [0.21202532],\n",
       "       [0.20886076],\n",
       "       [0.22468354],\n",
       "       [0.25632911],\n",
       "       [0.19303797],\n",
       "       [0.2056962 ],\n",
       "       [0.20886076],\n",
       "       [0.21835443],\n",
       "       [0.25      ],\n",
       "       [0.21518987],\n",
       "       [0.22468354],\n",
       "       [0.23101266],\n",
       "       [0.23734177],\n",
       "       [0.22151899],\n",
       "       [0.28164557],\n",
       "       [0.28481013],\n",
       "       [0.23417722],\n",
       "       [0.21835443],\n",
       "       [0.22468354],\n",
       "       [0.2278481 ],\n",
       "       [0.24683544],\n",
       "       [0.21835443],\n",
       "       [0.26265823],\n",
       "       [0.19936709],\n",
       "       [0.22468354],\n",
       "       [0.26265823],\n",
       "       [0.23734177],\n",
       "       [0.23101266],\n",
       "       [0.23417722],\n",
       "       [0.2278481 ],\n",
       "       [0.21835443],\n",
       "       [0.23417722],\n",
       "       [0.25632911],\n",
       "       [0.25632911],\n",
       "       [0.2278481 ],\n",
       "       [0.19936709],\n",
       "       [0.20253165],\n",
       "       [0.20886076],\n",
       "       [0.20886076],\n",
       "       [0.2278481 ],\n",
       "       [0.25      ],\n",
       "       [0.32278481],\n",
       "       [0.25      ],\n",
       "       [0.23734177],\n",
       "       [0.27531646],\n",
       "       [0.26898734],\n",
       "       [0.25949367],\n",
       "       [0.29113924],\n",
       "       [0.28797468],\n",
       "       [0.31329114],\n",
       "       [0.25632911],\n",
       "       [0.38924051],\n",
       "       [0.22468354],\n",
       "       [0.22151899],\n",
       "       [0.25632911],\n",
       "       [0.23734177],\n",
       "       [0.25632911],\n",
       "       [0.23734177],\n",
       "       [0.21518987],\n",
       "       [0.20886076],\n",
       "       [0.19620253],\n",
       "       [0.25      ],\n",
       "       [0.24050633],\n",
       "       [0.22468354],\n",
       "       [0.24050633],\n",
       "       [0.29746835],\n",
       "       [0.21202532],\n",
       "       [0.25949367],\n",
       "       [0.20886076],\n",
       "       [0.24367089],\n",
       "       [0.21202532],\n",
       "       [0.25316456],\n",
       "       [0.25632911],\n",
       "       [0.26265823],\n",
       "       [0.26582278],\n",
       "       [0.33227848],\n",
       "       [0.30696203],\n",
       "       [0.26582278],\n",
       "       [0.37658228],\n",
       "       [0.25632911],\n",
       "       [0.25      ],\n",
       "       [0.27531646],\n",
       "       [0.31329114],\n",
       "       [0.45886076],\n",
       "       [0.2721519 ],\n",
       "       [0.24050633],\n",
       "       [0.27848101],\n",
       "       [0.26898734],\n",
       "       [0.24367089],\n",
       "       [0.26265823],\n",
       "       [0.28797468],\n",
       "       [0.26265823],\n",
       "       [0.        ],\n",
       "       [0.        ],\n",
       "       [0.        ],\n",
       "       [0.        ],\n",
       "       [0.        ],\n",
       "       [0.        ],\n",
       "       [0.        ],\n",
       "       [0.        ],\n",
       "       [0.29746835],\n",
       "       [0.25      ],\n",
       "       [0.23734177],\n",
       "       [0.28797468],\n",
       "       [0.26582278],\n",
       "       [0.        ],\n",
       "       [0.        ],\n",
       "       [1.        ],\n",
       "       [0.        ],\n",
       "       [0.        ],\n",
       "       [0.61708861],\n",
       "       [0.49050633],\n",
       "       [0.35759494],\n",
       "       [0.27531646],\n",
       "       [0.31329114],\n",
       "       [0.2721519 ],\n",
       "       [0.30379747],\n",
       "       [0.27848101],\n",
       "       [0.26582278],\n",
       "       [0.32278481],\n",
       "       [0.25949367],\n",
       "       [0.24050633],\n",
       "       [0.24367089],\n",
       "       [0.28481013],\n",
       "       [0.26898734],\n",
       "       [0.38291139],\n",
       "       [0.30379747],\n",
       "       [0.41139241],\n",
       "       [0.33544304],\n",
       "       [0.20253165],\n",
       "       [0.2056962 ],\n",
       "       [0.19936709],\n",
       "       [0.18037975],\n",
       "       [0.2056962 ],\n",
       "       [0.20886076],\n",
       "       [0.20886076],\n",
       "       [0.19620253],\n",
       "       [0.21518987],\n",
       "       [0.19303797],\n",
       "       [0.19303797],\n",
       "       [0.23101266],\n",
       "       [0.20886076],\n",
       "       [0.18037975],\n",
       "       [0.17088608],\n",
       "       [0.1835443 ],\n",
       "       [0.19303797],\n",
       "       [0.16772152],\n",
       "       [0.18670886],\n",
       "       [0.19936709],\n",
       "       [0.19620253],\n",
       "       [0.17088608],\n",
       "       [0.12658228],\n",
       "       [0.14873418],\n",
       "       [0.39556962],\n",
       "       [0.18987342],\n",
       "       [0.15189873],\n",
       "       [0.13291139],\n",
       "       [0.16455696],\n",
       "       [0.17721519],\n",
       "       [0.13607595],\n",
       "       [0.16772152],\n",
       "       [0.14873418],\n",
       "       [0.13607595],\n",
       "       [0.15506329],\n",
       "       [0.18037975],\n",
       "       [0.13924051],\n",
       "       [0.16139241],\n",
       "       [0.17405063],\n",
       "       [0.        ],\n",
       "       [0.        ],\n",
       "       [0.13291139],\n",
       "       [0.21835443],\n",
       "       [0.25      ],\n",
       "       [0.19936709],\n",
       "       [0.22468354],\n",
       "       [0.24050633],\n",
       "       [0.25316456],\n",
       "       [0.28481013],\n",
       "       [0.23734177],\n",
       "       [0.21835443],\n",
       "       [0.21202532],\n",
       "       [0.32594937],\n",
       "       [0.28797468],\n",
       "       [0.25316456],\n",
       "       [0.26265823],\n",
       "       [0.31329114],\n",
       "       [0.25316456],\n",
       "       [0.2056962 ],\n",
       "       [0.21835443],\n",
       "       [0.23101266],\n",
       "       [0.24683544],\n",
       "       [0.25632911],\n",
       "       [0.21202532],\n",
       "       [0.19936709],\n",
       "       [0.20886076],\n",
       "       [0.22151899],\n",
       "       [0.23101266],\n",
       "       [0.19303797],\n",
       "       [0.21202532],\n",
       "       [0.21202532],\n",
       "       [0.20253165],\n",
       "       [0.18987342],\n",
       "       [0.18987342],\n",
       "       [0.21835443],\n",
       "       [0.19303797],\n",
       "       [0.21835443],\n",
       "       [0.19620253],\n",
       "       [0.19303797],\n",
       "       [0.20253165],\n",
       "       [0.23417722],\n",
       "       [0.17721519],\n",
       "       [0.22468354],\n",
       "       [0.19620253],\n",
       "       [0.18987342],\n",
       "       [0.23101266],\n",
       "       [0.21518987],\n",
       "       [0.21835443],\n",
       "       [0.19936709],\n",
       "       [0.22151899],\n",
       "       [0.20886076],\n",
       "       [0.20253165],\n",
       "       [0.22468354],\n",
       "       [0.21518987],\n",
       "       [0.23417722],\n",
       "       [0.21202532],\n",
       "       [0.18670886],\n",
       "       [0.21202532],\n",
       "       [0.27531646],\n",
       "       [0.23101266],\n",
       "       [0.2056962 ],\n",
       "       [0.21518987],\n",
       "       [0.21202532],\n",
       "       [0.23101266],\n",
       "       [0.24683544],\n",
       "       [0.21202532],\n",
       "       [0.24683544],\n",
       "       [0.19303797],\n",
       "       [0.34810127],\n",
       "       [0.26265823],\n",
       "       [0.42405063],\n",
       "       [0.28797468],\n",
       "       [0.26898734],\n",
       "       [0.25316456],\n",
       "       [0.33544304],\n",
       "       [0.33227848],\n",
       "       [0.37025316],\n",
       "       [0.30379747],\n",
       "       [0.87974684],\n",
       "       [0.33544304],\n",
       "       [0.24367089],\n",
       "       [0.34177215],\n",
       "       [0.28797468],\n",
       "       [0.28164557],\n",
       "       [0.37974684],\n",
       "       [0.28481013],\n",
       "       [0.34493671],\n",
       "       [0.24367089],\n",
       "       [0.27531646],\n",
       "       [0.32278481],\n",
       "       [0.31962025],\n",
       "       [0.27848101],\n",
       "       [0.30379747],\n",
       "       [0.34177215],\n",
       "       [0.28797468],\n",
       "       [0.36075949],\n",
       "       [0.32911392],\n",
       "       [0.26898734],\n",
       "       [0.28164557],\n",
       "       [0.31012658],\n",
       "       [0.24367089],\n",
       "       [0.25632911],\n",
       "       [0.24367089],\n",
       "       [0.25316456],\n",
       "       [0.26265823],\n",
       "       [0.28797468],\n",
       "       [0.34493671],\n",
       "       [0.2943038 ],\n",
       "       [0.30696203],\n",
       "       [0.28797468],\n",
       "       [0.27848101],\n",
       "       [0.32278481],\n",
       "       [0.27531646],\n",
       "       [0.23734177],\n",
       "       [0.30696203],\n",
       "       [0.28164557],\n",
       "       [0.24683544],\n",
       "       [0.2278481 ],\n",
       "       [0.2721519 ],\n",
       "       [0.26898734],\n",
       "       [0.2721519 ],\n",
       "       [0.26898734],\n",
       "       [0.26582278],\n",
       "       [0.24683544],\n",
       "       [0.28481013],\n",
       "       [0.2721519 ],\n",
       "       [0.32911392],\n",
       "       [0.28164557],\n",
       "       [0.25632911],\n",
       "       [0.25949367],\n",
       "       [0.29746835],\n",
       "       [0.29746835],\n",
       "       [0.31012658],\n",
       "       [0.2943038 ]])"
      ]
     },
     "execution_count": 24,
     "metadata": {},
     "output_type": "execute_result"
    }
   ],
   "source": [
    "scaled_train_CO"
   ]
  },
  {
   "cell_type": "code",
   "execution_count": 25,
   "metadata": {},
   "outputs": [],
   "source": [
    "# define generator\n",
    "n_input = 2\n",
    "n_features = 1\n",
    "generator_CO = TimeseriesGenerator(scaled_train_CO, scaled_train_CO, length=n_input, batch_size=1)"
   ]
  },
  {
   "cell_type": "code",
   "execution_count": 26,
   "metadata": {},
   "outputs": [],
   "source": [
    "#len(scaled_train_CO)"
   ]
  },
  {
   "cell_type": "code",
   "execution_count": 27,
   "metadata": {},
   "outputs": [],
   "source": [
    "#len(generator_CO)"
   ]
  },
  {
   "cell_type": "code",
   "execution_count": 28,
   "metadata": {},
   "outputs": [],
   "source": [
    "#scaled_train_CO"
   ]
  },
  {
   "cell_type": "code",
   "execution_count": 29,
   "metadata": {},
   "outputs": [],
   "source": [
    "# What does the first batch look like?\n",
    "X,y = generator_CO[0]"
   ]
  },
  {
   "cell_type": "code",
   "execution_count": 30,
   "metadata": {},
   "outputs": [
    {
     "name": "stdout",
     "output_type": "stream",
     "text": [
      "Given the Array: \n",
      "[0.2943038 0.2278481]\n",
      "Predict this y: \n",
      " [[0.27531646]]\n"
     ]
    }
   ],
   "source": [
    "print(f'Given the Array: \\n{X.flatten()}')\n",
    "print(f'Predict this y: \\n {y}')"
   ]
  },
  {
   "cell_type": "code",
   "execution_count": 31,
   "metadata": {},
   "outputs": [],
   "source": [
    "# Let's redefine to get 12 months back and then predict the next month out\n",
    "n_input = 7\n",
    "generator_CO = TimeseriesGenerator(scaled_train_CO, scaled_train_CO, length=n_input, batch_size=1)"
   ]
  },
  {
   "cell_type": "code",
   "execution_count": 32,
   "metadata": {},
   "outputs": [],
   "source": [
    "# What does the first batch look like?\n",
    "X,y = generator_CO[0]"
   ]
  },
  {
   "cell_type": "code",
   "execution_count": 33,
   "metadata": {},
   "outputs": [
    {
     "name": "stdout",
     "output_type": "stream",
     "text": [
      "Given the Array: \n",
      "[0.2943038  0.2278481  0.27531646 0.29113924 0.13924051 0.26582278\n",
      " 0.15822785]\n",
      "Predict this y: \n",
      " [[0.25316456]]\n"
     ]
    }
   ],
   "source": [
    "print(f'Given the Array: \\n{X.flatten()}')\n",
    "print(f'Predict this y: \\n {y}')"
   ]
  },
  {
   "cell_type": "code",
   "execution_count": 34,
   "metadata": {},
   "outputs": [],
   "source": [
    "from keras.models import Sequential\n",
    "from keras.layers import Dense\n",
    "from keras.layers import LSTM"
   ]
  },
  {
   "cell_type": "code",
   "execution_count": 35,
   "metadata": {},
   "outputs": [],
   "source": [
    "# define model\n",
    "model_CO = Sequential()\n",
    "model_CO.add(LSTM(100, activation='relu', input_shape=(n_input, n_features)))\n",
    "model_CO.add(Dense(1))\n",
    "model_CO.compile(optimizer='adam', loss='mse')"
   ]
  },
  {
   "cell_type": "code",
   "execution_count": 36,
   "metadata": {},
   "outputs": [
    {
     "name": "stdout",
     "output_type": "stream",
     "text": [
      "Model: \"sequential\"\n",
      "_________________________________________________________________\n",
      "Layer (type)                 Output Shape              Param #   \n",
      "=================================================================\n",
      "lstm (LSTM)                  (None, 100)               40800     \n",
      "_________________________________________________________________\n",
      "dense (Dense)                (None, 1)                 101       \n",
      "=================================================================\n",
      "Total params: 40,901\n",
      "Trainable params: 40,901\n",
      "Non-trainable params: 0\n",
      "_________________________________________________________________\n"
     ]
    }
   ],
   "source": [
    "model_CO.summary()"
   ]
  },
  {
   "cell_type": "code",
   "execution_count": 37,
   "metadata": {},
   "outputs": [
    {
     "name": "stdout",
     "output_type": "stream",
     "text": [
      "WARNING:tensorflow:From <ipython-input-37-893df2718f9f>:2: Model.fit_generator (from tensorflow.python.keras.engine.training) is deprecated and will be removed in a future version.\n",
      "Instructions for updating:\n",
      "Please use Model.fit, which supports generators.\n",
      "Epoch 1/50\n",
      "359/359 [==============================] - 2s 5ms/step - loss: 0.0107\n",
      "Epoch 2/50\n",
      "359/359 [==============================] - 2s 5ms/step - loss: 0.0090\n",
      "Epoch 3/50\n",
      "359/359 [==============================] - 2s 5ms/step - loss: 0.0088\n",
      "Epoch 4/50\n",
      "359/359 [==============================] - 2s 5ms/step - loss: 0.0087\n",
      "Epoch 5/50\n",
      "359/359 [==============================] - 2s 5ms/step - loss: 0.0089\n",
      "Epoch 6/50\n",
      "359/359 [==============================] - 2s 5ms/step - loss: 0.0087\n",
      "Epoch 7/50\n",
      "359/359 [==============================] - 1s 4ms/step - loss: 0.0087\n",
      "Epoch 8/50\n",
      "359/359 [==============================] - 2s 6ms/step - loss: 0.0085\n",
      "Epoch 9/50\n",
      "359/359 [==============================] - 2s 6ms/step - loss: 0.0086\n",
      "Epoch 10/50\n",
      "359/359 [==============================] - 1s 4ms/step - loss: 0.0085\n",
      "Epoch 11/50\n",
      "359/359 [==============================] - 2s 6ms/step - loss: 0.0085\n",
      "Epoch 12/50\n",
      "359/359 [==============================] - 2s 6ms/step - loss: 0.0085\n",
      "Epoch 13/50\n",
      "359/359 [==============================] - 2s 5ms/step - loss: 0.0086\n",
      "Epoch 14/50\n",
      "359/359 [==============================] - 2s 5ms/step - loss: 0.0084\n",
      "Epoch 15/50\n",
      "359/359 [==============================] - 2s 5ms/step - loss: 0.0084\n",
      "Epoch 16/50\n",
      "359/359 [==============================] - 2s 6ms/step - loss: 0.0084\n",
      "Epoch 17/50\n",
      "359/359 [==============================] - 2s 6ms/step - loss: 0.0085\n",
      "Epoch 18/50\n",
      "359/359 [==============================] - 2s 5ms/step - loss: 0.0084\n",
      "Epoch 19/50\n",
      "359/359 [==============================] - 2s 4ms/step - loss: 0.0083\n",
      "Epoch 20/50\n",
      "359/359 [==============================] - 2s 5ms/step - loss: 0.0084\n",
      "Epoch 21/50\n",
      "359/359 [==============================] - 2s 5ms/step - loss: 0.0082\n",
      "Epoch 22/50\n",
      "359/359 [==============================] - 2s 4ms/step - loss: 0.0081\n",
      "Epoch 23/50\n",
      "359/359 [==============================] - 2s 4ms/step - loss: 0.0083\n",
      "Epoch 24/50\n",
      "359/359 [==============================] - 2s 6ms/step - loss: 0.0082\n",
      "Epoch 25/50\n",
      "359/359 [==============================] - 2s 5ms/step - loss: 0.0081\n",
      "Epoch 26/50\n",
      "359/359 [==============================] - 2s 6ms/step - loss: 0.0079\n",
      "Epoch 27/50\n",
      "359/359 [==============================] - 2s 5ms/step - loss: 0.0080\n",
      "Epoch 28/50\n",
      "359/359 [==============================] - 2s 5ms/step - loss: 0.0080\n",
      "Epoch 29/50\n",
      "359/359 [==============================] - 2s 5ms/step - loss: 0.0078\n",
      "Epoch 30/50\n",
      "359/359 [==============================] - 2s 5ms/step - loss: 0.0079\n",
      "Epoch 31/50\n",
      "359/359 [==============================] - 2s 5ms/step - loss: 0.0077\n",
      "Epoch 32/50\n",
      "359/359 [==============================] - 2s 4ms/step - loss: 0.0077\n",
      "Epoch 33/50\n",
      "359/359 [==============================] - 1s 4ms/step - loss: 0.0077\n",
      "Epoch 34/50\n",
      "359/359 [==============================] - 2s 4ms/step - loss: 0.0077\n",
      "Epoch 35/50\n",
      "359/359 [==============================] - 2s 5ms/step - loss: 0.0077\n",
      "Epoch 36/50\n",
      "359/359 [==============================] - 2s 5ms/step - loss: 0.0077\n",
      "Epoch 37/50\n",
      "359/359 [==============================] - 2s 5ms/step - loss: 0.0076\n",
      "Epoch 38/50\n",
      "359/359 [==============================] - 1s 4ms/step - loss: 0.0075\n",
      "Epoch 39/50\n",
      "359/359 [==============================] - 2s 5ms/step - loss: 0.0073\n",
      "Epoch 40/50\n",
      "359/359 [==============================] - 2s 5ms/step - loss: 0.0076\n",
      "Epoch 41/50\n",
      "359/359 [==============================] - 1s 4ms/step - loss: 0.0075\n",
      "Epoch 42/50\n",
      "359/359 [==============================] - 1s 4ms/step - loss: 0.0073\n",
      "Epoch 43/50\n",
      "359/359 [==============================] - 2s 5ms/step - loss: 0.0072\n",
      "Epoch 44/50\n",
      "359/359 [==============================] - 2s 5ms/step - loss: 0.0073\n",
      "Epoch 45/50\n",
      "359/359 [==============================] - 2s 5ms/step - loss: 0.0073\n",
      "Epoch 46/50\n",
      "359/359 [==============================] - 2s 5ms/step - loss: 0.0072\n",
      "Epoch 47/50\n",
      "359/359 [==============================] - 2s 5ms/step - loss: 0.0072\n",
      "Epoch 48/50\n",
      "359/359 [==============================] - 1s 4ms/step - loss: 0.0073\n",
      "Epoch 49/50\n",
      "359/359 [==============================] - 2s 5ms/step - loss: 0.0073\n",
      "Epoch 50/50\n",
      "359/359 [==============================] - 2s 5ms/step - loss: 0.0072\n"
     ]
    },
    {
     "data": {
      "text/plain": [
       "<tensorflow.python.keras.callbacks.History at 0x24561236320>"
      ]
     },
     "execution_count": 37,
     "metadata": {},
     "output_type": "execute_result"
    }
   ],
   "source": [
    "# fit model\n",
    "model_CO.fit_generator(generator_CO,epochs=50)"
   ]
  },
  {
   "cell_type": "code",
   "execution_count": 38,
   "metadata": {},
   "outputs": [
    {
     "data": {
      "text/plain": [
       "dict_keys(['loss'])"
      ]
     },
     "execution_count": 38,
     "metadata": {},
     "output_type": "execute_result"
    }
   ],
   "source": [
    "model_CO.history.history.keys()"
   ]
  },
  {
   "cell_type": "code",
   "execution_count": 39,
   "metadata": {},
   "outputs": [
    {
     "data": {
      "text/plain": [
       "[<matplotlib.lines.Line2D at 0x24563673208>]"
      ]
     },
     "execution_count": 39,
     "metadata": {},
     "output_type": "execute_result"
    },
    {
     "data": {
      "image/png": "[encoded data removed]",
      "text/plain": [
       "<Figure size 432x288 with 1 Axes>"
      ]
     },
     "metadata": {
      "needs_background": "light"
     },
     "output_type": "display_data"
    }
   ],
   "source": [
    "loss_per_epoch = model_CO.history.history['loss']\n",
    "plt.plot(range(len(loss_per_epoch)),loss_per_epoch)"
   ]
  },
  {
   "cell_type": "code",
   "execution_count": 40,
   "metadata": {},
   "outputs": [],
   "source": [
    "first_eval_batch_CO = scaled_train_CO[-7:]"
   ]
  },
  {
   "cell_type": "code",
   "execution_count": 41,
   "metadata": {},
   "outputs": [
    {
     "data": {
      "text/plain": [
       "array([[0.28164557],\n",
       "       [0.25632911],\n",
       "       [0.25949367],\n",
       "       [0.29746835],\n",
       "       [0.29746835],\n",
       "       [0.31012658],\n",
       "       [0.2943038 ]])"
      ]
     },
     "execution_count": 41,
     "metadata": {},
     "output_type": "execute_result"
    }
   ],
   "source": [
    "first_eval_batch_CO"
   ]
  },
  {
   "cell_type": "code",
   "execution_count": 42,
   "metadata": {},
   "outputs": [],
   "source": [
    "first_eval_batch_CO = first_eval_batch_CO.reshape((1, n_input, n_features))"
   ]
  },
  {
   "cell_type": "code",
   "execution_count": 43,
   "metadata": {},
   "outputs": [
    {
     "data": {
      "text/plain": [
       "array([[0.2936569]], dtype=float32)"
      ]
     },
     "execution_count": 43,
     "metadata": {},
     "output_type": "execute_result"
    }
   ],
   "source": [
    "model_CO.predict(first_eval_batch_CO)"
   ]
  },
  {
   "cell_type": "code",
   "execution_count": 44,
   "metadata": {},
   "outputs": [
    {
     "data": {
      "text/plain": [
       "array([0.31329114])"
      ]
     },
     "execution_count": 44,
     "metadata": {},
     "output_type": "execute_result"
    }
   ],
   "source": [
    "scaled_test_CO[0]"
   ]
  },
  {
   "cell_type": "code",
   "execution_count": 45,
   "metadata": {},
   "outputs": [],
   "source": [
    "test_predictions_CO = []\n",
    "\n",
    "first_eval_batch_CO = scaled_train_CO[-n_input:]\n",
    "current_batch_CO = first_eval_batch_CO.reshape((1, n_input, n_features))"
   ]
  },
  {
   "cell_type": "code",
   "execution_count": 46,
   "metadata": {},
   "outputs": [
    {
     "data": {
      "text/plain": [
       "(1, 7, 1)"
      ]
     },
     "execution_count": 46,
     "metadata": {},
     "output_type": "execute_result"
    }
   ],
   "source": [
    "current_batch_CO.shape"
   ]
  },
  {
   "cell_type": "code",
   "execution_count": 47,
   "metadata": {},
   "outputs": [
    {
     "data": {
      "text/plain": [
       "array([[[0.28164557],\n",
       "        [0.25632911],\n",
       "        [0.25949367],\n",
       "        [0.29746835],\n",
       "        [0.29746835],\n",
       "        [0.31012658],\n",
       "        [0.2943038 ]]])"
      ]
     },
     "execution_count": 47,
     "metadata": {},
     "output_type": "execute_result"
    }
   ],
   "source": [
    "current_batch_CO"
   ]
  },
  {
   "cell_type": "code",
   "execution_count": 48,
   "metadata": {},
   "outputs": [
    {
     "data": {
      "text/plain": [
       "array([[[ 0.25632911],\n",
       "        [ 0.25949367],\n",
       "        [ 0.29746835],\n",
       "        [ 0.29746835],\n",
       "        [ 0.31012658],\n",
       "        [ 0.2943038 ],\n",
       "        [99.        ]]])"
      ]
     },
     "execution_count": 48,
     "metadata": {},
     "output_type": "execute_result"
    }
   ],
   "source": [
    "np.append(current_batch_CO[:,1:,:],[[[99]]],axis=1)"
   ]
  },
  {
   "cell_type": "code",
   "execution_count": 49,
   "metadata": {},
   "outputs": [],
   "source": [
    "test_predictions_CO = []\n",
    "\n",
    "first_eval_batch_CO = scaled_train_CO[-n_input:]\n",
    "current_batch_CO = first_eval_batch_CO.reshape((1, n_input, n_features))\n",
    "\n",
    "for i in range(len(test_CO)):\n",
    "    \n",
    "    # get prediction 1 time stamp ahead ([0] is for grabbing just the number instead of [array])\n",
    "    current_pred_CO = model_CO.predict(current_batch_CO)[0]\n",
    "    \n",
    "    # store prediction\n",
    "    test_predictions_CO.append(current_pred_CO) \n",
    "    \n",
    "    # update batch to now include prediction and drop first value\n",
    "    current_batch_CO = np.append(current_batch_CO[:,1:,:],[[current_pred_CO]],axis=1)"
   ]
  },
  {
   "cell_type": "code",
   "execution_count": 50,
   "metadata": {},
   "outputs": [
    {
     "data": {
      "text/plain": [
       "[array([0.2936569], dtype=float32),\n",
       " array([0.28975335], dtype=float32),\n",
       " array([0.28920564], dtype=float32),\n",
       " array([0.2953875], dtype=float32),\n",
       " array([0.2966286], dtype=float32),\n",
       " array([0.29865056], dtype=float32),\n",
       " array([0.29753035], dtype=float32)]"
      ]
     },
     "execution_count": 50,
     "metadata": {},
     "output_type": "execute_result"
    }
   ],
   "source": [
    "test_predictions_CO"
   ]
  },
  {
   "cell_type": "code",
   "execution_count": 51,
   "metadata": {},
   "outputs": [
    {
     "data": {
      "text/plain": [
       "array([[0.31329114],\n",
       "       [0.32278481],\n",
       "       [0.28481013],\n",
       "       [0.26582278],\n",
       "       [0.30696203],\n",
       "       [0.30379747],\n",
       "       [0.33227848]])"
      ]
     },
     "execution_count": 51,
     "metadata": {},
     "output_type": "execute_result"
    }
   ],
   "source": [
    "scaled_test_CO"
   ]
  },
  {
   "cell_type": "code",
   "execution_count": 52,
   "metadata": {},
   "outputs": [],
   "source": [
    "true_predictions_CO = scaler_CO.inverse_transform(test_predictions_CO)"
   ]
  },
  {
   "cell_type": "code",
   "execution_count": 53,
   "metadata": {},
   "outputs": [
    {
     "data": {
      "text/plain": [
       "array([[0.92795576],\n",
       "       [0.91562058],\n",
       "       [0.91388982],\n",
       "       [0.93342452],\n",
       "       [0.93734636],\n",
       "       [0.94373578],\n",
       "       [0.94019592]])"
      ]
     },
     "execution_count": 53,
     "metadata": {},
     "output_type": "execute_result"
    }
   ],
   "source": [
    "true_predictions_CO"
   ]
  },
  {
   "cell_type": "code",
   "execution_count": 54,
   "metadata": {},
   "outputs": [
    {
     "data": {
      "text/html": [
       "<div>\n",
       "<style scoped>\n",
       "    .dataframe tbody tr th:only-of-type {\n",
       "        vertical-align: middle;\n",
       "    }\n",
       "\n",
       "    .dataframe tbody tr th {\n",
       "        vertical-align: top;\n",
       "    }\n",
       "\n",
       "    .dataframe thead th {\n",
       "        text-align: right;\n",
       "    }\n",
       "</style>\n",
       "<table border=\"1\" class=\"dataframe\">\n",
       "  <thead>\n",
       "    <tr style=\"text-align: right;\">\n",
       "      <th></th>\n",
       "      <th>CO</th>\n",
       "    </tr>\n",
       "    <tr>\n",
       "      <th>From Date</th>\n",
       "      <th></th>\n",
       "    </tr>\n",
       "  </thead>\n",
       "  <tbody>\n",
       "    <tr>\n",
       "      <th>2020-05-01</th>\n",
       "      <td>0.99</td>\n",
       "    </tr>\n",
       "    <tr>\n",
       "      <th>2020-05-02</th>\n",
       "      <td>1.02</td>\n",
       "    </tr>\n",
       "    <tr>\n",
       "      <th>2020-05-03</th>\n",
       "      <td>0.90</td>\n",
       "    </tr>\n",
       "    <tr>\n",
       "      <th>2020-05-04</th>\n",
       "      <td>0.84</td>\n",
       "    </tr>\n",
       "    <tr>\n",
       "      <th>2020-05-05</th>\n",
       "      <td>0.97</td>\n",
       "    </tr>\n",
       "    <tr>\n",
       "      <th>2020-05-06</th>\n",
       "      <td>0.96</td>\n",
       "    </tr>\n",
       "    <tr>\n",
       "      <th>2020-05-07</th>\n",
       "      <td>1.05</td>\n",
       "    </tr>\n",
       "  </tbody>\n",
       "</table>\n",
       "</div>"
      ],
      "text/plain": [
       "              CO\n",
       "From Date       \n",
       "2020-05-01  0.99\n",
       "2020-05-02  1.02\n",
       "2020-05-03  0.90\n",
       "2020-05-04  0.84\n",
       "2020-05-05  0.97\n",
       "2020-05-06  0.96\n",
       "2020-05-07  1.05"
      ]
     },
     "execution_count": 54,
     "metadata": {},
     "output_type": "execute_result"
    }
   ],
   "source": [
    "test_CO"
   ]
  },
  {
   "cell_type": "code",
   "execution_count": 55,
   "metadata": {},
   "outputs": [
    {
     "name": "stderr",
     "output_type": "stream",
     "text": [
      "C:\\Users\\rahul\\.conda\\envs\\tsa_course\\lib\\site-packages\\ipykernel_launcher.py:2: SettingWithCopyWarning: \n",
      "A value is trying to be set on a copy of a slice from a DataFrame.\n",
      "Try using .loc[row_indexer,col_indexer] = value instead\n",
      "\n",
      "See the caveats in the documentation: http://pandas.pydata.org/pandas-docs/stable/indexing.html#indexing-view-versus-copy\n",
      "  \n"
     ]
    }
   ],
   "source": [
    "# IGNORE WARNINGS\n",
    "test_CO['Predictions_CO'] = true_predictions_CO"
   ]
  },
  {
   "cell_type": "code",
   "execution_count": 56,
   "metadata": {},
   "outputs": [
    {
     "data": {
      "text/html": [
       "<div>\n",
       "<style scoped>\n",
       "    .dataframe tbody tr th:only-of-type {\n",
       "        vertical-align: middle;\n",
       "    }\n",
       "\n",
       "    .dataframe tbody tr th {\n",
       "        vertical-align: top;\n",
       "    }\n",
       "\n",
       "    .dataframe thead th {\n",
       "        text-align: right;\n",
       "    }\n",
       "</style>\n",
       "<table border=\"1\" class=\"dataframe\">\n",
       "  <thead>\n",
       "    <tr style=\"text-align: right;\">\n",
       "      <th></th>\n",
       "      <th>CO</th>\n",
       "      <th>Predictions_CO</th>\n",
       "    </tr>\n",
       "    <tr>\n",
       "      <th>From Date</th>\n",
       "      <th></th>\n",
       "      <th></th>\n",
       "    </tr>\n",
       "  </thead>\n",
       "  <tbody>\n",
       "    <tr>\n",
       "      <th>2020-05-01</th>\n",
       "      <td>0.99</td>\n",
       "      <td>0.927956</td>\n",
       "    </tr>\n",
       "    <tr>\n",
       "      <th>2020-05-02</th>\n",
       "      <td>1.02</td>\n",
       "      <td>0.915621</td>\n",
       "    </tr>\n",
       "    <tr>\n",
       "      <th>2020-05-03</th>\n",
       "      <td>0.90</td>\n",
       "      <td>0.913890</td>\n",
       "    </tr>\n",
       "    <tr>\n",
       "      <th>2020-05-04</th>\n",
       "      <td>0.84</td>\n",
       "      <td>0.933425</td>\n",
       "    </tr>\n",
       "    <tr>\n",
       "      <th>2020-05-05</th>\n",
       "      <td>0.97</td>\n",
       "      <td>0.937346</td>\n",
       "    </tr>\n",
       "    <tr>\n",
       "      <th>2020-05-06</th>\n",
       "      <td>0.96</td>\n",
       "      <td>0.943736</td>\n",
       "    </tr>\n",
       "    <tr>\n",
       "      <th>2020-05-07</th>\n",
       "      <td>1.05</td>\n",
       "      <td>0.940196</td>\n",
       "    </tr>\n",
       "  </tbody>\n",
       "</table>\n",
       "</div>"
      ],
      "text/plain": [
       "              CO  Predictions_CO\n",
       "From Date                       \n",
       "2020-05-01  0.99        0.927956\n",
       "2020-05-02  1.02        0.915621\n",
       "2020-05-03  0.90        0.913890\n",
       "2020-05-04  0.84        0.933425\n",
       "2020-05-05  0.97        0.937346\n",
       "2020-05-06  0.96        0.943736\n",
       "2020-05-07  1.05        0.940196"
      ]
     },
     "execution_count": 56,
     "metadata": {},
     "output_type": "execute_result"
    }
   ],
   "source": [
    "test_CO"
   ]
  },
  {
   "cell_type": "code",
   "execution_count": 57,
   "metadata": {},
   "outputs": [
    {
     "data": {
      "text/plain": [
       "<matplotlib.axes._subplots.AxesSubplot at 0x2456379efd0>"
      ]
     },
     "execution_count": 57,
     "metadata": {},
     "output_type": "execute_result"
    },
    {
     "data": {
      "image/png": "[encoded data removed]",
      "text/plain": [
       "<Figure size 2160x720 with 1 Axes>"
      ]
     },
     "metadata": {
      "needs_background": "light"
     },
     "output_type": "display_data"
    }
   ],
   "source": [
    "test_CO.plot(figsize=(30,10))"
   ]
  },
  {
   "cell_type": "code",
   "execution_count": 58,
   "metadata": {},
   "outputs": [],
   "source": [
    "from sklearn.metrics import mean_squared_error"
   ]
  },
  {
   "cell_type": "code",
   "execution_count": 59,
   "metadata": {},
   "outputs": [],
   "source": [
    "CO_MSE = mean_squared_error(test_CO['CO'], test_CO['Predictions_CO'])"
   ]
  },
  {
   "cell_type": "code",
   "execution_count": 60,
   "metadata": {},
   "outputs": [
    {
     "name": "stdout",
     "output_type": "stream",
     "text": [
      "MSE:  0.005293334559653977 \n",
      " RMSE:  0.07275530605841733\n"
     ]
    }
   ],
   "source": [
    "CO_RMSE = math.sqrt(CO_MSE)\n",
    "print('MSE: ',CO_MSE,'\\n','RMSE: ',CO_RMSE)"
   ]
  },
  {
   "cell_type": "markdown",
   "metadata": {},
   "source": [
    "# Nitrogen Oxide"
   ]
  },
  {
   "cell_type": "code",
   "execution_count": 61,
   "metadata": {},
   "outputs": [],
   "source": [
    "df_NO = pd.DataFrame(df['NO'])\n",
    "\n",
    "#df_NO.head(2)"
   ]
  },
  {
   "cell_type": "markdown",
   "metadata": {},
   "source": [
    "### To find `seasonality` in the recorded value"
   ]
  },
  {
   "cell_type": "code",
   "execution_count": 62,
   "metadata": {},
   "outputs": [],
   "source": [
    "from statsmodels.tsa.seasonal import seasonal_decompose\n"
   ]
  },
  {
   "cell_type": "code",
   "execution_count": 63,
   "metadata": {},
   "outputs": [
    {
     "data": {
      "text/plain": [
       "<matplotlib.axes._subplots.AxesSubplot at 0x2456375e470>"
      ]
     },
     "execution_count": 63,
     "metadata": {},
     "output_type": "execute_result"
    },
    {
     "data": {
      "image/png": "[encoded data removed]",
      "text/plain": [
       "<Figure size 864x144 with 1 Axes>"
      ]
     },
     "metadata": {
      "needs_background": "light"
     },
     "output_type": "display_data"
    }
   ],
   "source": [
    "results_NO = seasonal_decompose(df_NO)\n",
    "results_NO.observed.plot(figsize=(12,2))"
   ]
  },
  {
   "cell_type": "markdown",
   "metadata": {},
   "source": [
    "#### `trend`"
   ]
  },
  {
   "cell_type": "code",
   "execution_count": 64,
   "metadata": {},
   "outputs": [
    {
     "data": {
      "text/plain": [
       "<matplotlib.axes._subplots.AxesSubplot at 0x24563893cc0>"
      ]
     },
     "execution_count": 64,
     "metadata": {},
     "output_type": "execute_result"
    },
    {
     "data": {
      "image/png": "[encoded data removed]",
      "text/plain": [
       "<Figure size 864x144 with 1 Axes>"
      ]
     },
     "metadata": {
      "needs_background": "light"
     },
     "output_type": "display_data"
    }
   ],
   "source": [
    "results_NO.trend.plot(figsize=(12,2))"
   ]
  },
  {
   "cell_type": "markdown",
   "metadata": {},
   "source": [
    "#### 'Seasonality'"
   ]
  },
  {
   "cell_type": "code",
   "execution_count": 65,
   "metadata": {},
   "outputs": [
    {
     "data": {
      "text/plain": [
       "<matplotlib.axes._subplots.AxesSubplot at 0x2456399fc88>"
      ]
     },
     "execution_count": 65,
     "metadata": {},
     "output_type": "execute_result"
    },
    {
     "data": {
      "image/png": "[encoded data removed]",
      "text/plain": [
       "<Figure size 2160x360 with 1 Axes>"
      ]
     },
     "metadata": {
      "needs_background": "light"
     },
     "output_type": "display_data"
    }
   ],
   "source": [
    "results_NO.seasonal.plot(figsize=(30,5))"
   ]
  },
  {
   "cell_type": "markdown",
   "metadata": {},
   "source": [
    "#### `residual`"
   ]
  },
  {
   "cell_type": "code",
   "execution_count": 66,
   "metadata": {},
   "outputs": [
    {
     "data": {
      "text/plain": [
       "<matplotlib.axes._subplots.AxesSubplot at 0x24563ddccc0>"
      ]
     },
     "execution_count": 66,
     "metadata": {},
     "output_type": "execute_result"
    },
    {
     "data": {
      "image/png": "[encoded data removed]",
      "text/plain": [
       "<Figure size 864x144 with 1 Axes>"
      ]
     },
     "metadata": {
      "needs_background": "light"
     },
     "output_type": "display_data"
    }
   ],
   "source": [
    "results_NO.resid.plot(figsize=(12,2))"
   ]
  },
  {
   "cell_type": "markdown",
   "metadata": {},
   "source": [
    "#### `Data preprocessing`"
   ]
  },
  {
   "cell_type": "code",
   "execution_count": 67,
   "metadata": {},
   "outputs": [],
   "source": [
    "train_NO = df_NO.iloc[:366]\n",
    "test_NO = df_NO.iloc[366:]"
   ]
  },
  {
   "cell_type": "code",
   "execution_count": 68,
   "metadata": {},
   "outputs": [],
   "source": [
    "from sklearn.preprocessing import MinMaxScaler"
   ]
  },
  {
   "cell_type": "code",
   "execution_count": 69,
   "metadata": {},
   "outputs": [],
   "source": [
    "scaler_NO = MinMaxScaler()"
   ]
  },
  {
   "cell_type": "code",
   "execution_count": 70,
   "metadata": {},
   "outputs": [
    {
     "data": {
      "text/plain": [
       "MinMaxScaler(copy=True, feature_range=(0, 1))"
      ]
     },
     "execution_count": 70,
     "metadata": {},
     "output_type": "execute_result"
    }
   ],
   "source": [
    "# IGNORE WARNING ITS JUST NONVERTING TO FLOATS\n",
    "# WE ONLY FIT TO TRAININ DATA, OTHERWISE WE ARE CHEATING ASSUMING INFO ABOUT TEST SET\n",
    "scaler_NO.fit(train_NO)"
   ]
  },
  {
   "cell_type": "code",
   "execution_count": 71,
   "metadata": {},
   "outputs": [],
   "source": [
    "scaled_train_NO = scaler_NO.transform(train_NO)\n",
    "scaled_test_NO = scaler_NO.transform(test_NO)"
   ]
  },
  {
   "cell_type": "code",
   "execution_count": 72,
   "metadata": {},
   "outputs": [],
   "source": [
    "from keras.preprocessing.sequence import TimeseriesGenerator"
   ]
  },
  {
   "cell_type": "code",
   "execution_count": 73,
   "metadata": {},
   "outputs": [
    {
     "data": {
      "text/plain": [
       "array([[0.02487562],\n",
       "       [0.02955809],\n",
       "       [0.02648522],\n",
       "       [0.02714369],\n",
       "       [0.02575359],\n",
       "       [0.05399473],\n",
       "       [0.02824115],\n",
       "       [0.03372842],\n",
       "       [0.32082236],\n",
       "       [0.03109453],\n",
       "       [0.02502195],\n",
       "       [0.05362891],\n",
       "       [0.02707053],\n",
       "       [0.035777  ],\n",
       "       [0.02882646],\n",
       "       [0.05150717],\n",
       "       [0.09503951],\n",
       "       [0.0403863 ],\n",
       "       [0.02941176],\n",
       "       [0.03745976],\n",
       "       [0.02172959],\n",
       "       [0.07601697],\n",
       "       [0.02838747],\n",
       "       [0.027729  ],\n",
       "       [0.02553409],\n",
       "       [0.02180275],\n",
       "       [0.03226514],\n",
       "       [0.02553409],\n",
       "       [0.02275388],\n",
       "       [0.03292362],\n",
       "       [0.02670471],\n",
       "       [0.04558092],\n",
       "       [0.02253439],\n",
       "       [0.02165642],\n",
       "       [0.05940884],\n",
       "       [0.03285045],\n",
       "       [0.03460638],\n",
       "       [0.03219198],\n",
       "       [0.03314311],\n",
       "       [0.01960784],\n",
       "       [0.02341235],\n",
       "       [0.02297337],\n",
       "       [0.03102136],\n",
       "       [0.02977758],\n",
       "       [0.03358209],\n",
       "       [0.03226514],\n",
       "       [0.02868013],\n",
       "       [0.03277729],\n",
       "       [0.02421715],\n",
       "       [0.05677495],\n",
       "       [0.03350893],\n",
       "       [0.03189933],\n",
       "       [0.02838747],\n",
       "       [0.02172959],\n",
       "       [0.02860697],\n",
       "       [0.03138718],\n",
       "       [0.0381914 ],\n",
       "       [0.04170325],\n",
       "       [0.04133743],\n",
       "       [0.03285045],\n",
       "       [0.03211882],\n",
       "       [0.03965467],\n",
       "       [0.03116769],\n",
       "       [0.03109453],\n",
       "       [0.03138718],\n",
       "       [0.02736318],\n",
       "       [0.02494879],\n",
       "       [0.02194908],\n",
       "       [0.0349722 ],\n",
       "       [0.03731343],\n",
       "       [0.02926544],\n",
       "       [0.04045947],\n",
       "       [0.04214223],\n",
       "       [0.02897278],\n",
       "       [0.03080187],\n",
       "       [0.03811823],\n",
       "       [0.04097161],\n",
       "       [0.07411472],\n",
       "       [0.08106526],\n",
       "       [0.0403863 ],\n",
       "       [0.02802166],\n",
       "       [0.0239245 ],\n",
       "       [0.02743635],\n",
       "       [0.0349722 ],\n",
       "       [0.02619257],\n",
       "       [0.03731343],\n",
       "       [0.02868013],\n",
       "       [0.03446005],\n",
       "       [0.04784899],\n",
       "       [0.03628914],\n",
       "       [0.03328944],\n",
       "       [0.03343576],\n",
       "       [0.03226514],\n",
       "       [0.03028973],\n",
       "       [0.0245098 ],\n",
       "       [0.02165642],\n",
       "       [0.03680129],\n",
       "       [0.03306994],\n",
       "       [0.03833772],\n",
       "       [0.02948493],\n",
       "       [0.02209541],\n",
       "       [0.02802166],\n",
       "       [0.02868013],\n",
       "       [0.04931226],\n",
       "       [0.05172666],\n",
       "       [0.02904595],\n",
       "       [0.03424056],\n",
       "       [0.03892303],\n",
       "       [0.03767925],\n",
       "       [0.03672812],\n",
       "       [0.05267779],\n",
       "       [0.07199298],\n",
       "       [0.0546532 ],\n",
       "       [0.06496927],\n",
       "       [0.04397132],\n",
       "       [0.03299678],\n",
       "       [0.02480246],\n",
       "       [0.02626573],\n",
       "       [0.02641206],\n",
       "       [0.03453322],\n",
       "       [0.02809482],\n",
       "       [0.02685104],\n",
       "       [0.02721686],\n",
       "       [0.02129061],\n",
       "       [0.02092479],\n",
       "       [0.02831431],\n",
       "       [0.02568042],\n",
       "       [0.03292362],\n",
       "       [0.03372842],\n",
       "       [0.02619257],\n",
       "       [0.02502195],\n",
       "       [0.02560726],\n",
       "       [0.02333919],\n",
       "       [0.02838747],\n",
       "       [0.03277729],\n",
       "       [0.03987416],\n",
       "       [0.02802166],\n",
       "       [0.03328944],\n",
       "       [0.04367867],\n",
       "       [0.05860404],\n",
       "       [0.03489903],\n",
       "       [0.02963126],\n",
       "       [0.02560726],\n",
       "       [0.02407082],\n",
       "       [0.05992098],\n",
       "       [0.05143401],\n",
       "       [0.02648522],\n",
       "       [0.01865672],\n",
       "       [0.01872988],\n",
       "       [0.0261194 ],\n",
       "       [0.01770559],\n",
       "       [0.01755926],\n",
       "       [0.01851039],\n",
       "       [0.03306994],\n",
       "       [0.04287387],\n",
       "       [0.        ],\n",
       "       [0.        ],\n",
       "       [0.        ],\n",
       "       [0.        ],\n",
       "       [0.        ],\n",
       "       [0.        ],\n",
       "       [0.        ],\n",
       "       [0.        ],\n",
       "       [0.02041264],\n",
       "       [0.0231197 ],\n",
       "       [0.02560726],\n",
       "       [0.04375183],\n",
       "       [0.04484928],\n",
       "       [0.        ],\n",
       "       [0.        ],\n",
       "       [0.61457419],\n",
       "       [0.        ],\n",
       "       [0.        ],\n",
       "       [0.14303483],\n",
       "       [0.039801  ],\n",
       "       [0.02816798],\n",
       "       [0.01924203],\n",
       "       [0.01902253],\n",
       "       [0.01872988],\n",
       "       [0.02136377],\n",
       "       [0.0229002 ],\n",
       "       [0.03775241],\n",
       "       [0.03263096],\n",
       "       [0.03233831],\n",
       "       [0.03526485],\n",
       "       [0.03211882],\n",
       "       [0.03358209],\n",
       "       [0.04060579],\n",
       "       [0.06928592],\n",
       "       [0.03775241],\n",
       "       [0.05106819],\n",
       "       [0.0484343 ],\n",
       "       [0.03328944],\n",
       "       [0.03628914],\n",
       "       [0.0333626 ],\n",
       "       [0.03248464],\n",
       "       [0.03306994],\n",
       "       [0.03563067],\n",
       "       [0.03592332],\n",
       "       [0.0325578 ],\n",
       "       [0.03548434],\n",
       "       [0.03328944],\n",
       "       [0.0373866 ],\n",
       "       [0.03745976],\n",
       "       [0.03409423],\n",
       "       [0.03365525],\n",
       "       [0.03504536],\n",
       "       [0.03219198],\n",
       "       [0.03299678],\n",
       "       [0.03328944],\n",
       "       [0.03841089],\n",
       "       [0.03328944],\n",
       "       [0.02765584],\n",
       "       [0.01763243],\n",
       "       [0.01609599],\n",
       "       [0.01609599],\n",
       "       [0.01624232],\n",
       "       [0.01631548],\n",
       "       [0.01770559],\n",
       "       [0.04894644],\n",
       "       [0.01843723],\n",
       "       [0.01485221],\n",
       "       [0.01543752],\n",
       "       [0.01536435],\n",
       "       [0.01660814],\n",
       "       [0.01551068],\n",
       "       [0.01521803],\n",
       "       [0.01602283],\n",
       "       [0.01558385],\n",
       "       [0.01872988],\n",
       "       [0.01697395],\n",
       "       [0.01704712],\n",
       "       [0.01551068],\n",
       "       [0.01968101],\n",
       "       [0.01485221],\n",
       "       [0.01514486],\n",
       "       [0.01514486],\n",
       "       [0.01470588],\n",
       "       [0.0150717 ],\n",
       "       [0.01660814],\n",
       "       [0.01565701],\n",
       "       [0.01529119],\n",
       "       [0.01521803],\n",
       "       [0.01463272],\n",
       "       [0.05977466],\n",
       "       [0.03870354],\n",
       "       [0.03855721],\n",
       "       [0.03028973],\n",
       "       [0.05114135],\n",
       "       [0.38315774],\n",
       "       [0.00973076],\n",
       "       [1.        ],\n",
       "       [0.0239245 ],\n",
       "       [0.02677788],\n",
       "       [0.02882646],\n",
       "       [0.02882646],\n",
       "       [0.02875329],\n",
       "       [0.07806555],\n",
       "       [0.08669886],\n",
       "       [0.26770559],\n",
       "       [0.0381914 ],\n",
       "       [0.07448054],\n",
       "       [0.03065555],\n",
       "       [0.02904595],\n",
       "       [0.04953175],\n",
       "       [0.05597015],\n",
       "       [0.03972783],\n",
       "       [0.11230612],\n",
       "       [0.04587357],\n",
       "       [0.04565408],\n",
       "       [0.03745976],\n",
       "       [0.05904302],\n",
       "       [0.06160375],\n",
       "       [0.04704419],\n",
       "       [0.06196956],\n",
       "       [0.02992391],\n",
       "       [0.02794849],\n",
       "       [0.02677788],\n",
       "       [0.02809482],\n",
       "       [0.03394791],\n",
       "       [0.03884987],\n",
       "       [0.03343576],\n",
       "       [0.02926544],\n",
       "       [0.0293386 ],\n",
       "       [0.02721686],\n",
       "       [0.02655838],\n",
       "       [0.02831431],\n",
       "       [0.0261194 ],\n",
       "       [0.03592332],\n",
       "       [0.08867428],\n",
       "       [0.14742464],\n",
       "       [0.02604624],\n",
       "       [0.04404448],\n",
       "       [0.03028973],\n",
       "       [0.02875329],\n",
       "       [0.02911911],\n",
       "       [0.02589991],\n",
       "       [0.02743635],\n",
       "       [0.02568042],\n",
       "       [0.02589991],\n",
       "       [0.02897278],\n",
       "       [0.0301434 ],\n",
       "       [0.03343576],\n",
       "       [0.03109453],\n",
       "       [0.04492245],\n",
       "       [0.02743635],\n",
       "       [0.04631255],\n",
       "       [0.04528826],\n",
       "       [0.10316067],\n",
       "       [0.02794849],\n",
       "       [0.02458297],\n",
       "       [0.02875329],\n",
       "       [0.02597308],\n",
       "       [0.02589991],\n",
       "       [0.02677788],\n",
       "       [0.02816798],\n",
       "       [0.03065555],\n",
       "       [0.04111794],\n",
       "       [0.0261194 ],\n",
       "       [0.02421715],\n",
       "       [0.03050922],\n",
       "       [0.02831431],\n",
       "       [0.02729002],\n",
       "       [0.03080187],\n",
       "       [0.02809482],\n",
       "       [0.04302019],\n",
       "       [0.08355282],\n",
       "       [0.02882646],\n",
       "       [0.02538777],\n",
       "       [0.02750951],\n",
       "       [0.02582675],\n",
       "       [0.02502195],\n",
       "       [0.02575359],\n",
       "       [0.02641206],\n",
       "       [0.0253146 ],\n",
       "       [0.02575359],\n",
       "       [0.02560726],\n",
       "       [0.02641206],\n",
       "       [0.0245098 ],\n",
       "       [0.02443664],\n",
       "       [0.02721686],\n",
       "       [0.02480246],\n",
       "       [0.02802166],\n",
       "       [0.02524144],\n",
       "       [0.02619257],\n",
       "       [0.10059994],\n",
       "       [0.0245098 ],\n",
       "       [0.02509511],\n",
       "       [0.0253146 ],\n",
       "       [0.02582675],\n",
       "       [0.02494879],\n",
       "       [0.02524144],\n",
       "       [0.02568042],\n",
       "       [0.0253146 ],\n",
       "       [0.02641206],\n",
       "       [0.02524144],\n",
       "       [0.02553409],\n",
       "       [0.02575359],\n",
       "       [0.02597308],\n",
       "       [0.02604624],\n",
       "       [0.02677788],\n",
       "       [0.02487562],\n",
       "       [0.02604624],\n",
       "       [0.0253146 ],\n",
       "       [0.02377817],\n",
       "       [0.02597308]])"
      ]
     },
     "execution_count": 73,
     "metadata": {},
     "output_type": "execute_result"
    }
   ],
   "source": [
    "scaled_train_NO"
   ]
  },
  {
   "cell_type": "code",
   "execution_count": 74,
   "metadata": {},
   "outputs": [],
   "source": [
    "# define generator\n",
    "n_input = 2\n",
    "n_features = 1\n",
    "generator_NO = TimeseriesGenerator(scaled_train_NO, scaled_train_NO, length=n_input, batch_size=1)"
   ]
  },
  {
   "cell_type": "code",
   "execution_count": 75,
   "metadata": {},
   "outputs": [
    {
     "data": {
      "text/plain": [
       "366"
      ]
     },
     "execution_count": 75,
     "metadata": {},
     "output_type": "execute_result"
    }
   ],
   "source": [
    "len(scaled_train_NO)"
   ]
  },
  {
   "cell_type": "code",
   "execution_count": 76,
   "metadata": {},
   "outputs": [
    {
     "data": {
      "text/plain": [
       "364"
      ]
     },
     "execution_count": 76,
     "metadata": {},
     "output_type": "execute_result"
    }
   ],
   "source": [
    "len(generator_NO)"
   ]
  },
  {
   "cell_type": "code",
   "execution_count": 77,
   "metadata": {},
   "outputs": [
    {
     "data": {
      "text/plain": [
       "array([[0.02487562],\n",
       "       [0.02955809],\n",
       "       [0.02648522],\n",
       "       [0.02714369],\n",
       "       [0.02575359],\n",
       "       [0.05399473],\n",
       "       [0.02824115],\n",
       "       [0.03372842],\n",
       "       [0.32082236],\n",
       "       [0.03109453],\n",
       "       [0.02502195],\n",
       "       [0.05362891],\n",
       "       [0.02707053],\n",
       "       [0.035777  ],\n",
       "       [0.02882646],\n",
       "       [0.05150717],\n",
       "       [0.09503951],\n",
       "       [0.0403863 ],\n",
       "       [0.02941176],\n",
       "       [0.03745976],\n",
       "       [0.02172959],\n",
       "       [0.07601697],\n",
       "       [0.02838747],\n",
       "       [0.027729  ],\n",
       "       [0.02553409],\n",
       "       [0.02180275],\n",
       "       [0.03226514],\n",
       "       [0.02553409],\n",
       "       [0.02275388],\n",
       "       [0.03292362],\n",
       "       [0.02670471],\n",
       "       [0.04558092],\n",
       "       [0.02253439],\n",
       "       [0.02165642],\n",
       "       [0.05940884],\n",
       "       [0.03285045],\n",
       "       [0.03460638],\n",
       "       [0.03219198],\n",
       "       [0.03314311],\n",
       "       [0.01960784],\n",
       "       [0.02341235],\n",
       "       [0.02297337],\n",
       "       [0.03102136],\n",
       "       [0.02977758],\n",
       "       [0.03358209],\n",
       "       [0.03226514],\n",
       "       [0.02868013],\n",
       "       [0.03277729],\n",
       "       [0.02421715],\n",
       "       [0.05677495],\n",
       "       [0.03350893],\n",
       "       [0.03189933],\n",
       "       [0.02838747],\n",
       "       [0.02172959],\n",
       "       [0.02860697],\n",
       "       [0.03138718],\n",
       "       [0.0381914 ],\n",
       "       [0.04170325],\n",
       "       [0.04133743],\n",
       "       [0.03285045],\n",
       "       [0.03211882],\n",
       "       [0.03965467],\n",
       "       [0.03116769],\n",
       "       [0.03109453],\n",
       "       [0.03138718],\n",
       "       [0.02736318],\n",
       "       [0.02494879],\n",
       "       [0.02194908],\n",
       "       [0.0349722 ],\n",
       "       [0.03731343],\n",
       "       [0.02926544],\n",
       "       [0.04045947],\n",
       "       [0.04214223],\n",
       "       [0.02897278],\n",
       "       [0.03080187],\n",
       "       [0.03811823],\n",
       "       [0.04097161],\n",
       "       [0.07411472],\n",
       "       [0.08106526],\n",
       "       [0.0403863 ],\n",
       "       [0.02802166],\n",
       "       [0.0239245 ],\n",
       "       [0.02743635],\n",
       "       [0.0349722 ],\n",
       "       [0.02619257],\n",
       "       [0.03731343],\n",
       "       [0.02868013],\n",
       "       [0.03446005],\n",
       "       [0.04784899],\n",
       "       [0.03628914],\n",
       "       [0.03328944],\n",
       "       [0.03343576],\n",
       "       [0.03226514],\n",
       "       [0.03028973],\n",
       "       [0.0245098 ],\n",
       "       [0.02165642],\n",
       "       [0.03680129],\n",
       "       [0.03306994],\n",
       "       [0.03833772],\n",
       "       [0.02948493],\n",
       "       [0.02209541],\n",
       "       [0.02802166],\n",
       "       [0.02868013],\n",
       "       [0.04931226],\n",
       "       [0.05172666],\n",
       "       [0.02904595],\n",
       "       [0.03424056],\n",
       "       [0.03892303],\n",
       "       [0.03767925],\n",
       "       [0.03672812],\n",
       "       [0.05267779],\n",
       "       [0.07199298],\n",
       "       [0.0546532 ],\n",
       "       [0.06496927],\n",
       "       [0.04397132],\n",
       "       [0.03299678],\n",
       "       [0.02480246],\n",
       "       [0.02626573],\n",
       "       [0.02641206],\n",
       "       [0.03453322],\n",
       "       [0.02809482],\n",
       "       [0.02685104],\n",
       "       [0.02721686],\n",
       "       [0.02129061],\n",
       "       [0.02092479],\n",
       "       [0.02831431],\n",
       "       [0.02568042],\n",
       "       [0.03292362],\n",
       "       [0.03372842],\n",
       "       [0.02619257],\n",
       "       [0.02502195],\n",
       "       [0.02560726],\n",
       "       [0.02333919],\n",
       "       [0.02838747],\n",
       "       [0.03277729],\n",
       "       [0.03987416],\n",
       "       [0.02802166],\n",
       "       [0.03328944],\n",
       "       [0.04367867],\n",
       "       [0.05860404],\n",
       "       [0.03489903],\n",
       "       [0.02963126],\n",
       "       [0.02560726],\n",
       "       [0.02407082],\n",
       "       [0.05992098],\n",
       "       [0.05143401],\n",
       "       [0.02648522],\n",
       "       [0.01865672],\n",
       "       [0.01872988],\n",
       "       [0.0261194 ],\n",
       "       [0.01770559],\n",
       "       [0.01755926],\n",
       "       [0.01851039],\n",
       "       [0.03306994],\n",
       "       [0.04287387],\n",
       "       [0.        ],\n",
       "       [0.        ],\n",
       "       [0.        ],\n",
       "       [0.        ],\n",
       "       [0.        ],\n",
       "       [0.        ],\n",
       "       [0.        ],\n",
       "       [0.        ],\n",
       "       [0.02041264],\n",
       "       [0.0231197 ],\n",
       "       [0.02560726],\n",
       "       [0.04375183],\n",
       "       [0.04484928],\n",
       "       [0.        ],\n",
       "       [0.        ],\n",
       "       [0.61457419],\n",
       "       [0.        ],\n",
       "       [0.        ],\n",
       "       [0.14303483],\n",
       "       [0.039801  ],\n",
       "       [0.02816798],\n",
       "       [0.01924203],\n",
       "       [0.01902253],\n",
       "       [0.01872988],\n",
       "       [0.02136377],\n",
       "       [0.0229002 ],\n",
       "       [0.03775241],\n",
       "       [0.03263096],\n",
       "       [0.03233831],\n",
       "       [0.03526485],\n",
       "       [0.03211882],\n",
       "       [0.03358209],\n",
       "       [0.04060579],\n",
       "       [0.06928592],\n",
       "       [0.03775241],\n",
       "       [0.05106819],\n",
       "       [0.0484343 ],\n",
       "       [0.03328944],\n",
       "       [0.03628914],\n",
       "       [0.0333626 ],\n",
       "       [0.03248464],\n",
       "       [0.03306994],\n",
       "       [0.03563067],\n",
       "       [0.03592332],\n",
       "       [0.0325578 ],\n",
       "       [0.03548434],\n",
       "       [0.03328944],\n",
       "       [0.0373866 ],\n",
       "       [0.03745976],\n",
       "       [0.03409423],\n",
       "       [0.03365525],\n",
       "       [0.03504536],\n",
       "       [0.03219198],\n",
       "       [0.03299678],\n",
       "       [0.03328944],\n",
       "       [0.03841089],\n",
       "       [0.03328944],\n",
       "       [0.02765584],\n",
       "       [0.01763243],\n",
       "       [0.01609599],\n",
       "       [0.01609599],\n",
       "       [0.01624232],\n",
       "       [0.01631548],\n",
       "       [0.01770559],\n",
       "       [0.04894644],\n",
       "       [0.01843723],\n",
       "       [0.01485221],\n",
       "       [0.01543752],\n",
       "       [0.01536435],\n",
       "       [0.01660814],\n",
       "       [0.01551068],\n",
       "       [0.01521803],\n",
       "       [0.01602283],\n",
       "       [0.01558385],\n",
       "       [0.01872988],\n",
       "       [0.01697395],\n",
       "       [0.01704712],\n",
       "       [0.01551068],\n",
       "       [0.01968101],\n",
       "       [0.01485221],\n",
       "       [0.01514486],\n",
       "       [0.01514486],\n",
       "       [0.01470588],\n",
       "       [0.0150717 ],\n",
       "       [0.01660814],\n",
       "       [0.01565701],\n",
       "       [0.01529119],\n",
       "       [0.01521803],\n",
       "       [0.01463272],\n",
       "       [0.05977466],\n",
       "       [0.03870354],\n",
       "       [0.03855721],\n",
       "       [0.03028973],\n",
       "       [0.05114135],\n",
       "       [0.38315774],\n",
       "       [0.00973076],\n",
       "       [1.        ],\n",
       "       [0.0239245 ],\n",
       "       [0.02677788],\n",
       "       [0.02882646],\n",
       "       [0.02882646],\n",
       "       [0.02875329],\n",
       "       [0.07806555],\n",
       "       [0.08669886],\n",
       "       [0.26770559],\n",
       "       [0.0381914 ],\n",
       "       [0.07448054],\n",
       "       [0.03065555],\n",
       "       [0.02904595],\n",
       "       [0.04953175],\n",
       "       [0.05597015],\n",
       "       [0.03972783],\n",
       "       [0.11230612],\n",
       "       [0.04587357],\n",
       "       [0.04565408],\n",
       "       [0.03745976],\n",
       "       [0.05904302],\n",
       "       [0.06160375],\n",
       "       [0.04704419],\n",
       "       [0.06196956],\n",
       "       [0.02992391],\n",
       "       [0.02794849],\n",
       "       [0.02677788],\n",
       "       [0.02809482],\n",
       "       [0.03394791],\n",
       "       [0.03884987],\n",
       "       [0.03343576],\n",
       "       [0.02926544],\n",
       "       [0.0293386 ],\n",
       "       [0.02721686],\n",
       "       [0.02655838],\n",
       "       [0.02831431],\n",
       "       [0.0261194 ],\n",
       "       [0.03592332],\n",
       "       [0.08867428],\n",
       "       [0.14742464],\n",
       "       [0.02604624],\n",
       "       [0.04404448],\n",
       "       [0.03028973],\n",
       "       [0.02875329],\n",
       "       [0.02911911],\n",
       "       [0.02589991],\n",
       "       [0.02743635],\n",
       "       [0.02568042],\n",
       "       [0.02589991],\n",
       "       [0.02897278],\n",
       "       [0.0301434 ],\n",
       "       [0.03343576],\n",
       "       [0.03109453],\n",
       "       [0.04492245],\n",
       "       [0.02743635],\n",
       "       [0.04631255],\n",
       "       [0.04528826],\n",
       "       [0.10316067],\n",
       "       [0.02794849],\n",
       "       [0.02458297],\n",
       "       [0.02875329],\n",
       "       [0.02597308],\n",
       "       [0.02589991],\n",
       "       [0.02677788],\n",
       "       [0.02816798],\n",
       "       [0.03065555],\n",
       "       [0.04111794],\n",
       "       [0.0261194 ],\n",
       "       [0.02421715],\n",
       "       [0.03050922],\n",
       "       [0.02831431],\n",
       "       [0.02729002],\n",
       "       [0.03080187],\n",
       "       [0.02809482],\n",
       "       [0.04302019],\n",
       "       [0.08355282],\n",
       "       [0.02882646],\n",
       "       [0.02538777],\n",
       "       [0.02750951],\n",
       "       [0.02582675],\n",
       "       [0.02502195],\n",
       "       [0.02575359],\n",
       "       [0.02641206],\n",
       "       [0.0253146 ],\n",
       "       [0.02575359],\n",
       "       [0.02560726],\n",
       "       [0.02641206],\n",
       "       [0.0245098 ],\n",
       "       [0.02443664],\n",
       "       [0.02721686],\n",
       "       [0.02480246],\n",
       "       [0.02802166],\n",
       "       [0.02524144],\n",
       "       [0.02619257],\n",
       "       [0.10059994],\n",
       "       [0.0245098 ],\n",
       "       [0.02509511],\n",
       "       [0.0253146 ],\n",
       "       [0.02582675],\n",
       "       [0.02494879],\n",
       "       [0.02524144],\n",
       "       [0.02568042],\n",
       "       [0.0253146 ],\n",
       "       [0.02641206],\n",
       "       [0.02524144],\n",
       "       [0.02553409],\n",
       "       [0.02575359],\n",
       "       [0.02597308],\n",
       "       [0.02604624],\n",
       "       [0.02677788],\n",
       "       [0.02487562],\n",
       "       [0.02604624],\n",
       "       [0.0253146 ],\n",
       "       [0.02377817],\n",
       "       [0.02597308]])"
      ]
     },
     "execution_count": 77,
     "metadata": {},
     "output_type": "execute_result"
    }
   ],
   "source": [
    "scaled_train_NO"
   ]
  },
  {
   "cell_type": "code",
   "execution_count": 78,
   "metadata": {},
   "outputs": [],
   "source": [
    "# What does the first batch look like?\n",
    "X,y = generator_NO[0]"
   ]
  },
  {
   "cell_type": "code",
   "execution_count": 79,
   "metadata": {},
   "outputs": [
    {
     "name": "stdout",
     "output_type": "stream",
     "text": [
      "Given the Array: \n",
      "[0.02487562 0.02955809]\n",
      "Predict this y: \n",
      " [[0.02648522]]\n"
     ]
    }
   ],
   "source": [
    "print(f'Given the Array: \\n{X.flatten()}')\n",
    "print(f'Predict this y: \\n {y}')"
   ]
  },
  {
   "cell_type": "code",
   "execution_count": 80,
   "metadata": {},
   "outputs": [],
   "source": [
    "\n",
    "# Let's redefine to get 12 months back and then predict the next month out\n",
    "n_input = 7\n",
    "generator_NO = TimeseriesGenerator(scaled_train_NO, scaled_train_NO, length=n_input, batch_size=1)"
   ]
  },
  {
   "cell_type": "code",
   "execution_count": 81,
   "metadata": {},
   "outputs": [],
   "source": [
    "from keras.models import Sequential\n",
    "from keras.layers import Dense\n",
    "from keras.layers import LSTM"
   ]
  },
  {
   "cell_type": "code",
   "execution_count": 82,
   "metadata": {},
   "outputs": [],
   "source": [
    "# define model\n",
    "model_NO = Sequential()\n",
    "model_NO.add(LSTM(100, activation='relu', input_shape=(n_input, n_features)))\n",
    "model_NO.add(Dense(1))\n",
    "model_NO.compile(optimizer='adam', loss='mse')"
   ]
  },
  {
   "cell_type": "code",
   "execution_count": 83,
   "metadata": {},
   "outputs": [
    {
     "name": "stdout",
     "output_type": "stream",
     "text": [
      "Model: \"sequential_1\"\n",
      "_________________________________________________________________\n",
      "Layer (type)                 Output Shape              Param #   \n",
      "=================================================================\n",
      "lstm_1 (LSTM)                (None, 100)               40800     \n",
      "_________________________________________________________________\n",
      "dense_1 (Dense)              (None, 1)                 101       \n",
      "=================================================================\n",
      "Total params: 40,901\n",
      "Trainable params: 40,901\n",
      "Non-trainable params: 0\n",
      "_________________________________________________________________\n"
     ]
    }
   ],
   "source": [
    "model_NO.summary()"
   ]
  },
  {
   "cell_type": "code",
   "execution_count": 84,
   "metadata": {},
   "outputs": [
    {
     "name": "stdout",
     "output_type": "stream",
     "text": [
      "Epoch 1/50\n",
      "359/359 [==============================] - 2s 5ms/step - loss: 0.0046\n",
      "Epoch 2/50\n",
      "359/359 [==============================] - 2s 5ms/step - loss: 0.0047\n",
      "Epoch 3/50\n",
      "359/359 [==============================] - 2s 5ms/step - loss: 0.0046\n",
      "Epoch 4/50\n",
      "359/359 [==============================] - 2s 5ms/step - loss: 0.0046\n",
      "Epoch 5/50\n",
      "359/359 [==============================] - 2s 5ms/step - loss: 0.0046\n",
      "Epoch 6/50\n",
      "359/359 [==============================] - 2s 5ms/step - loss: 0.0046\n",
      "Epoch 7/50\n",
      "359/359 [==============================] - 2s 5ms/step - loss: 0.0046\n",
      "Epoch 8/50\n",
      "359/359 [==============================] - 2s 5ms/step - loss: 0.0046\n",
      "Epoch 9/50\n",
      "359/359 [==============================] - 2s 5ms/step - loss: 0.0046\n",
      "Epoch 10/50\n",
      "359/359 [==============================] - 2s 5ms/step - loss: 0.0046\n",
      "Epoch 11/50\n",
      "359/359 [==============================] - 2s 5ms/step - loss: 0.0046\n",
      "Epoch 12/50\n",
      "359/359 [==============================] - 2s 5ms/step - loss: 0.0045\n",
      "Epoch 13/50\n",
      "359/359 [==============================] - 2s 5ms/step - loss: 0.0046\n",
      "Epoch 14/50\n",
      "359/359 [==============================] - 2s 4ms/step - loss: 0.0046\n",
      "Epoch 15/50\n",
      "359/359 [==============================] - 2s 5ms/step - loss: 0.0045\n",
      "Epoch 16/50\n",
      "359/359 [==============================] - 2s 5ms/step - loss: 0.0046\n",
      "Epoch 17/50\n",
      "359/359 [==============================] - 1s 4ms/step - loss: 0.0045\n",
      "Epoch 18/50\n",
      "359/359 [==============================] - 2s 6ms/step - loss: 0.0045\n",
      "Epoch 19/50\n",
      "359/359 [==============================] - 2s 5ms/step - loss: 0.0045\n",
      "Epoch 20/50\n",
      "359/359 [==============================] - 2s 6ms/step - loss: 0.0045\n",
      "Epoch 21/50\n",
      "359/359 [==============================] - 2s 5ms/step - loss: 0.0045\n",
      "Epoch 22/50\n",
      "359/359 [==============================] - 2s 5ms/step - loss: 0.0045\n",
      "Epoch 23/50\n",
      "359/359 [==============================] - 2s 5ms/step - loss: 0.0045\n",
      "Epoch 24/50\n",
      "359/359 [==============================] - 2s 6ms/step - loss: 0.0045\n",
      "Epoch 25/50\n",
      "359/359 [==============================] - 2s 5ms/step - loss: 0.0045\n",
      "Epoch 26/50\n",
      "359/359 [==============================] - 2s 4ms/step - loss: 0.0045\n",
      "Epoch 27/50\n",
      "359/359 [==============================] - 2s 4ms/step - loss: 0.0044\n",
      "Epoch 28/50\n",
      "359/359 [==============================] - 2s 4ms/step - loss: 0.0044\n",
      "Epoch 29/50\n",
      "359/359 [==============================] - 2s 4ms/step - loss: 0.0045\n",
      "Epoch 30/50\n",
      "359/359 [==============================] - 2s 4ms/step - loss: 0.0045\n",
      "Epoch 31/50\n",
      "359/359 [==============================] - 2s 5ms/step - loss: 0.0045\n",
      "Epoch 32/50\n",
      "359/359 [==============================] - 2s 4ms/step - loss: 0.0044\n",
      "Epoch 33/50\n",
      "359/359 [==============================] - 2s 5ms/step - loss: 0.0045\n",
      "Epoch 34/50\n",
      "359/359 [==============================] - 2s 5ms/step - loss: 0.0044\n",
      "Epoch 35/50\n",
      "359/359 [==============================] - 2s 6ms/step - loss: 0.0045\n",
      "Epoch 36/50\n",
      "359/359 [==============================] - 1s 4ms/step - loss: 0.0044\n",
      "Epoch 37/50\n",
      "359/359 [==============================] - 1s 4ms/step - loss: 0.0044\n",
      "Epoch 38/50\n",
      "359/359 [==============================] - 2s 5ms/step - loss: 0.0044\n",
      "Epoch 39/50\n",
      "359/359 [==============================] - 2s 5ms/step - loss: 0.0044\n",
      "Epoch 40/50\n",
      "359/359 [==============================] - 2s 5ms/step - loss: 0.0044\n",
      "Epoch 41/50\n",
      "359/359 [==============================] - 2s 5ms/step - loss: 0.0044\n",
      "Epoch 42/50\n",
      "359/359 [==============================] - 1s 4ms/step - loss: 0.0044\n",
      "Epoch 43/50\n",
      "359/359 [==============================] - 2s 5ms/step - loss: 0.0044\n",
      "Epoch 44/50\n",
      "359/359 [==============================] - 2s 5ms/step - loss: 0.0044\n",
      "Epoch 45/50\n",
      "359/359 [==============================] - 2s 5ms/step - loss: 0.0044\n",
      "Epoch 46/50\n",
      "359/359 [==============================] - 2s 5ms/step - loss: 0.0044\n",
      "Epoch 47/50\n",
      "359/359 [==============================] - 2s 5ms/step - loss: 0.0044\n",
      "Epoch 48/50\n",
      "359/359 [==============================] - 2s 5ms/step - loss: 0.0044\n",
      "Epoch 49/50\n",
      "359/359 [==============================] - 2s 5ms/step - loss: 0.0043\n",
      "Epoch 50/50\n",
      "359/359 [==============================] - 2s 5ms/step - loss: 0.0044\n"
     ]
    },
    {
     "data": {
      "text/plain": [
       "<tensorflow.python.keras.callbacks.History at 0x24563bbb518>"
      ]
     },
     "execution_count": 84,
     "metadata": {},
     "output_type": "execute_result"
    }
   ],
   "source": [
    "# fit model\n",
    "model_NO.fit_generator(generator_NO,epochs=50)"
   ]
  },
  {
   "cell_type": "code",
   "execution_count": 85,
   "metadata": {},
   "outputs": [
    {
     "data": {
      "text/plain": [
       "dict_keys(['loss'])"
      ]
     },
     "execution_count": 85,
     "metadata": {},
     "output_type": "execute_result"
    }
   ],
   "source": [
    "model_NO.history.history.keys()"
   ]
  },
  {
   "cell_type": "code",
   "execution_count": 86,
   "metadata": {},
   "outputs": [
    {
     "data": {
      "text/plain": [
       "[<matplotlib.lines.Line2D at 0x24566520cf8>]"
      ]
     },
     "execution_count": 86,
     "metadata": {},
     "output_type": "execute_result"
    },
    {
     "data": {
      "image/png": "[encoded data removed]",
      "text/plain": [
       "<Figure size 432x288 with 1 Axes>"
      ]
     },
     "metadata": {
      "needs_background": "light"
     },
     "output_type": "display_data"
    }
   ],
   "source": [
    "loss_per_epoch = model_NO.history.history['loss']\n",
    "plt.plot(range(len(loss_per_epoch)),loss_per_epoch)"
   ]
  },
  {
   "cell_type": "code",
   "execution_count": 87,
   "metadata": {},
   "outputs": [
    {
     "data": {
      "text/plain": [
       "array([[0.02604624],\n",
       "       [0.02677788],\n",
       "       [0.02487562],\n",
       "       [0.02604624],\n",
       "       [0.0253146 ],\n",
       "       [0.02377817],\n",
       "       [0.02597308]])"
      ]
     },
     "execution_count": 87,
     "metadata": {},
     "output_type": "execute_result"
    }
   ],
   "source": [
    "first_eval_batch_NO = scaled_train_NO[-7:]\n",
    "\n",
    "first_eval_batch_NO"
   ]
  },
  {
   "cell_type": "code",
   "execution_count": 88,
   "metadata": {},
   "outputs": [],
   "source": [
    "first_eval_batch_NO = first_eval_batch_NO.reshape((1, n_input, n_features))"
   ]
  },
  {
   "cell_type": "code",
   "execution_count": 89,
   "metadata": {},
   "outputs": [
    {
     "data": {
      "text/plain": [
       "array([[0.03110535]], dtype=float32)"
      ]
     },
     "execution_count": 89,
     "metadata": {},
     "output_type": "execute_result"
    }
   ],
   "source": [
    "model_NO.predict(first_eval_batch_NO)"
   ]
  },
  {
   "cell_type": "code",
   "execution_count": 90,
   "metadata": {},
   "outputs": [
    {
     "data": {
      "text/plain": [
       "array([0.02575359])"
      ]
     },
     "execution_count": 90,
     "metadata": {},
     "output_type": "execute_result"
    }
   ],
   "source": [
    "scaled_test_NO[0]"
   ]
  },
  {
   "cell_type": "code",
   "execution_count": 91,
   "metadata": {},
   "outputs": [],
   "source": [
    "test_predictions_NO = []"
   ]
  },
  {
   "cell_type": "code",
   "execution_count": 92,
   "metadata": {},
   "outputs": [],
   "source": [
    "first_eval_batch_NO = scaled_train_NO[-n_input:]\n",
    "current_batch_NO = first_eval_batch_NO.reshape((1, n_input, n_features))"
   ]
  },
  {
   "cell_type": "code",
   "execution_count": 93,
   "metadata": {},
   "outputs": [
    {
     "data": {
      "text/plain": [
       "(1, 7, 1)"
      ]
     },
     "execution_count": 93,
     "metadata": {},
     "output_type": "execute_result"
    }
   ],
   "source": [
    "current_batch_NO.shape"
   ]
  },
  {
   "cell_type": "code",
   "execution_count": 94,
   "metadata": {},
   "outputs": [
    {
     "data": {
      "text/plain": [
       "array([[[0.02604624],\n",
       "        [0.02677788],\n",
       "        [0.02487562],\n",
       "        [0.02604624],\n",
       "        [0.0253146 ],\n",
       "        [0.02377817],\n",
       "        [0.02597308]]])"
      ]
     },
     "execution_count": 94,
     "metadata": {},
     "output_type": "execute_result"
    }
   ],
   "source": [
    "current_batch_NO"
   ]
  },
  {
   "cell_type": "code",
   "execution_count": 95,
   "metadata": {},
   "outputs": [
    {
     "data": {
      "text/plain": [
       "array([[[2.67778753e-02],\n",
       "        [2.48756219e-02],\n",
       "        [2.60462394e-02],\n",
       "        [2.53146035e-02],\n",
       "        [2.37781680e-02],\n",
       "        [2.59730758e-02],\n",
       "        [9.90000000e+01]]])"
      ]
     },
     "execution_count": 95,
     "metadata": {},
     "output_type": "execute_result"
    }
   ],
   "source": [
    "np.append(current_batch_NO[:,1:,:],[[[99]]],axis=1)"
   ]
  },
  {
   "cell_type": "code",
   "execution_count": 96,
   "metadata": {},
   "outputs": [],
   "source": [
    "test_predictions_NO = []"
   ]
  },
  {
   "cell_type": "code",
   "execution_count": 97,
   "metadata": {},
   "outputs": [],
   "source": [
    "first_eval_batch_NO = scaled_train_NO[-n_input:]\n",
    "current_batch_NO = first_eval_batch_NO.reshape((1, n_input, n_features))"
   ]
  },
  {
   "cell_type": "code",
   "execution_count": 98,
   "metadata": {},
   "outputs": [],
   "source": [
    "for i in range(len(test_NO)):\n",
    "    \n",
    "    # get prediction 1 time stamp ahead ([0] is for grabbing just the number instead of [array])\n",
    "    current_pred_NO = model_NO.predict(current_batch_NO)[0]\n",
    "    \n",
    "    # store prediction\n",
    "    test_predictions_NO.append(current_pred_NO) \n",
    "    \n",
    "    # update batch to now include prediction and drop first value\n",
    "    current_batch_NO = np.append(current_batch_NO[:,1:,:],[[current_pred_NO]],axis=1)"
   ]
  },
  {
   "cell_type": "code",
   "execution_count": 99,
   "metadata": {},
   "outputs": [
    {
     "data": {
      "text/plain": [
       "[array([0.03110535], dtype=float32),\n",
       " array([0.03243872], dtype=float32),\n",
       " array([0.03293695], dtype=float32),\n",
       " array([0.03304819], dtype=float32),\n",
       " array([0.0330263], dtype=float32),\n",
       " array([0.03297831], dtype=float32),\n",
       " array([0.0329405], dtype=float32)]"
      ]
     },
     "execution_count": 99,
     "metadata": {},
     "output_type": "execute_result"
    }
   ],
   "source": [
    "test_predictions_NO"
   ]
  },
  {
   "cell_type": "code",
   "execution_count": 100,
   "metadata": {},
   "outputs": [
    {
     "data": {
      "text/plain": [
       "array([[0.02575359],\n",
       "       [0.02538777],\n",
       "       [0.02487562],\n",
       "       [0.02589991],\n",
       "       [0.02633889],\n",
       "       [0.0261194 ],\n",
       "       [0.02604624]])"
      ]
     },
     "execution_count": 100,
     "metadata": {},
     "output_type": "execute_result"
    }
   ],
   "source": [
    "scaled_test_NO"
   ]
  },
  {
   "cell_type": "code",
   "execution_count": 101,
   "metadata": {},
   "outputs": [],
   "source": [
    "true_predictions_NO = scaler_NO.inverse_transform(test_predictions_NO)"
   ]
  },
  {
   "cell_type": "code",
   "execution_count": 102,
   "metadata": {},
   "outputs": [
    {
     "data": {
      "text/plain": [
       "array([[4.25147933],\n",
       "       [4.43372395],\n",
       "       [4.50182274],\n",
       "       [4.51702612],\n",
       "       [4.51403473],\n",
       "       [4.50747506],\n",
       "       [4.50230798]])"
      ]
     },
     "execution_count": 102,
     "metadata": {},
     "output_type": "execute_result"
    }
   ],
   "source": [
    "true_predictions_NO"
   ]
  },
  {
   "cell_type": "code",
   "execution_count": 103,
   "metadata": {},
   "outputs": [
    {
     "data": {
      "text/html": [
       "<div>\n",
       "<style scoped>\n",
       "    .dataframe tbody tr th:only-of-type {\n",
       "        vertical-align: middle;\n",
       "    }\n",
       "\n",
       "    .dataframe tbody tr th {\n",
       "        vertical-align: top;\n",
       "    }\n",
       "\n",
       "    .dataframe thead th {\n",
       "        text-align: right;\n",
       "    }\n",
       "</style>\n",
       "<table border=\"1\" class=\"dataframe\">\n",
       "  <thead>\n",
       "    <tr style=\"text-align: right;\">\n",
       "      <th></th>\n",
       "      <th>NO</th>\n",
       "    </tr>\n",
       "    <tr>\n",
       "      <th>From Date</th>\n",
       "      <th></th>\n",
       "    </tr>\n",
       "  </thead>\n",
       "  <tbody>\n",
       "    <tr>\n",
       "      <th>2020-05-01</th>\n",
       "      <td>3.52</td>\n",
       "    </tr>\n",
       "    <tr>\n",
       "      <th>2020-05-02</th>\n",
       "      <td>3.47</td>\n",
       "    </tr>\n",
       "    <tr>\n",
       "      <th>2020-05-03</th>\n",
       "      <td>3.40</td>\n",
       "    </tr>\n",
       "    <tr>\n",
       "      <th>2020-05-04</th>\n",
       "      <td>3.54</td>\n",
       "    </tr>\n",
       "    <tr>\n",
       "      <th>2020-05-05</th>\n",
       "      <td>3.60</td>\n",
       "    </tr>\n",
       "    <tr>\n",
       "      <th>2020-05-06</th>\n",
       "      <td>3.57</td>\n",
       "    </tr>\n",
       "    <tr>\n",
       "      <th>2020-05-07</th>\n",
       "      <td>3.56</td>\n",
       "    </tr>\n",
       "  </tbody>\n",
       "</table>\n",
       "</div>"
      ],
      "text/plain": [
       "              NO\n",
       "From Date       \n",
       "2020-05-01  3.52\n",
       "2020-05-02  3.47\n",
       "2020-05-03  3.40\n",
       "2020-05-04  3.54\n",
       "2020-05-05  3.60\n",
       "2020-05-06  3.57\n",
       "2020-05-07  3.56"
      ]
     },
     "execution_count": 103,
     "metadata": {},
     "output_type": "execute_result"
    }
   ],
   "source": [
    "test_NO"
   ]
  },
  {
   "cell_type": "code",
   "execution_count": null,
   "metadata": {},
   "outputs": [],
   "source": []
  },
  {
   "cell_type": "code",
   "execution_count": 104,
   "metadata": {},
   "outputs": [
    {
     "name": "stderr",
     "output_type": "stream",
     "text": [
      "C:\\Users\\rahul\\.conda\\envs\\tsa_course\\lib\\site-packages\\ipykernel_launcher.py:2: SettingWithCopyWarning: \n",
      "A value is trying to be set on a copy of a slice from a DataFrame.\n",
      "Try using .loc[row_indexer,col_indexer] = value instead\n",
      "\n",
      "See the caveats in the documentation: http://pandas.pydata.org/pandas-docs/stable/indexing.html#indexing-view-versus-copy\n",
      "  \n"
     ]
    }
   ],
   "source": [
    "# IGNORE WARNINGS\n",
    "test_NO['Predictions_NO'] = true_predictions_NO"
   ]
  },
  {
   "cell_type": "code",
   "execution_count": 105,
   "metadata": {},
   "outputs": [
    {
     "data": {
      "text/html": [
       "<div>\n",
       "<style scoped>\n",
       "    .dataframe tbody tr th:only-of-type {\n",
       "        vertical-align: middle;\n",
       "    }\n",
       "\n",
       "    .dataframe tbody tr th {\n",
       "        vertical-align: top;\n",
       "    }\n",
       "\n",
       "    .dataframe thead th {\n",
       "        text-align: right;\n",
       "    }\n",
       "</style>\n",
       "<table border=\"1\" class=\"dataframe\">\n",
       "  <thead>\n",
       "    <tr style=\"text-align: right;\">\n",
       "      <th></th>\n",
       "      <th>NO</th>\n",
       "      <th>Predictions_NO</th>\n",
       "    </tr>\n",
       "    <tr>\n",
       "      <th>From Date</th>\n",
       "      <th></th>\n",
       "      <th></th>\n",
       "    </tr>\n",
       "  </thead>\n",
       "  <tbody>\n",
       "    <tr>\n",
       "      <th>2020-05-01</th>\n",
       "      <td>3.52</td>\n",
       "      <td>4.251479</td>\n",
       "    </tr>\n",
       "    <tr>\n",
       "      <th>2020-05-02</th>\n",
       "      <td>3.47</td>\n",
       "      <td>4.433724</td>\n",
       "    </tr>\n",
       "    <tr>\n",
       "      <th>2020-05-03</th>\n",
       "      <td>3.40</td>\n",
       "      <td>4.501823</td>\n",
       "    </tr>\n",
       "    <tr>\n",
       "      <th>2020-05-04</th>\n",
       "      <td>3.54</td>\n",
       "      <td>4.517026</td>\n",
       "    </tr>\n",
       "    <tr>\n",
       "      <th>2020-05-05</th>\n",
       "      <td>3.60</td>\n",
       "      <td>4.514035</td>\n",
       "    </tr>\n",
       "    <tr>\n",
       "      <th>2020-05-06</th>\n",
       "      <td>3.57</td>\n",
       "      <td>4.507475</td>\n",
       "    </tr>\n",
       "    <tr>\n",
       "      <th>2020-05-07</th>\n",
       "      <td>3.56</td>\n",
       "      <td>4.502308</td>\n",
       "    </tr>\n",
       "  </tbody>\n",
       "</table>\n",
       "</div>"
      ],
      "text/plain": [
       "              NO  Predictions_NO\n",
       "From Date                       \n",
       "2020-05-01  3.52        4.251479\n",
       "2020-05-02  3.47        4.433724\n",
       "2020-05-03  3.40        4.501823\n",
       "2020-05-04  3.54        4.517026\n",
       "2020-05-05  3.60        4.514035\n",
       "2020-05-06  3.57        4.507475\n",
       "2020-05-07  3.56        4.502308"
      ]
     },
     "execution_count": 105,
     "metadata": {},
     "output_type": "execute_result"
    }
   ],
   "source": [
    "test_NO"
   ]
  },
  {
   "cell_type": "code",
   "execution_count": 106,
   "metadata": {},
   "outputs": [
    {
     "data": {
      "text/plain": [
       "<matplotlib.axes._subplots.AxesSubplot at 0x245639a9668>"
      ]
     },
     "execution_count": 106,
     "metadata": {},
     "output_type": "execute_result"
    },
    {
     "data": {
      "image/png": "[encoded data removed]",
      "text/plain": [
       "<Figure size 864x576 with 1 Axes>"
      ]
     },
     "metadata": {
      "needs_background": "light"
     },
     "output_type": "display_data"
    }
   ],
   "source": [
    "test_NO.plot(figsize=(12,8))"
   ]
  },
  {
   "cell_type": "code",
   "execution_count": 107,
   "metadata": {},
   "outputs": [],
   "source": [
    "from sklearn.metrics import mean_squared_error"
   ]
  },
  {
   "cell_type": "code",
   "execution_count": 108,
   "metadata": {},
   "outputs": [
    {
     "name": "stdout",
     "output_type": "stream",
     "text": [
      "MSE:  0.8906689384927573 \n",
      " RMSE:  0.9437525833038855\n"
     ]
    }
   ],
   "source": [
    "NO_MSE = mean_squared_error(test_NO['NO'], test_NO['Predictions_NO'])\n",
    "NO_RMSE = math.sqrt(NO_MSE)\n",
    "print('MSE: ',NO_MSE,'\\n','RMSE: ',NO_RMSE)"
   ]
  },
  {
   "cell_type": "code",
   "execution_count": 109,
   "metadata": {},
   "outputs": [],
   "source": [
    "df_PM25 = pd.DataFrame(df['PM25'])\n",
    "\n",
    "#df_PM25.head(2)\n"
   ]
  },
  {
   "cell_type": "code",
   "execution_count": 110,
   "metadata": {},
   "outputs": [
    {
     "data": {
      "text/plain": [
       "<matplotlib.axes._subplots.AxesSubplot at 0x245204c9d30>"
      ]
     },
     "execution_count": 110,
     "metadata": {},
     "output_type": "execute_result"
    },
    {
     "data": {
      "image/png": "[encoded data removed]",
      "text/plain": [
       "<Figure size 864x144 with 1 Axes>"
      ]
     },
     "metadata": {
      "needs_background": "light"
     },
     "output_type": "display_data"
    }
   ],
   "source": [
    "\n",
    "#from statsmodels.tsa.seasonal import seasonal_dePM25mpose\n",
    "\n",
    "results_PM25 = seasonal_decompose(df_PM25)\n",
    "results_PM25.observed.plot(figsize=(12,2))\n",
    "\n"
   ]
  },
  {
   "cell_type": "code",
   "execution_count": 111,
   "metadata": {},
   "outputs": [
    {
     "data": {
      "text/plain": [
       "<matplotlib.axes._subplots.AxesSubplot at 0x245666cfc50>"
      ]
     },
     "execution_count": 111,
     "metadata": {},
     "output_type": "execute_result"
    },
    {
     "data": {
      "image/png": "[encoded data removed]",
      "text/plain": [
       "<Figure size 864x144 with 1 Axes>"
      ]
     },
     "metadata": {
      "needs_background": "light"
     },
     "output_type": "display_data"
    }
   ],
   "source": [
    "results_PM25.trend.plot(figsize=(12,2))\n",
    "\n"
   ]
  },
  {
   "cell_type": "code",
   "execution_count": 112,
   "metadata": {},
   "outputs": [
    {
     "data": {
      "text/plain": [
       "<matplotlib.axes._subplots.AxesSubplot at 0x245667fdc18>"
      ]
     },
     "execution_count": 112,
     "metadata": {},
     "output_type": "execute_result"
    },
    {
     "data": {
      "image/png": "[encoded data removed]",
      "text/plain": [
       "<Figure size 2160x360 with 1 Axes>"
      ]
     },
     "metadata": {
      "needs_background": "light"
     },
     "output_type": "display_data"
    }
   ],
   "source": [
    "results_PM25.seasonal.plot(figsize=(30,5))"
   ]
  },
  {
   "cell_type": "code",
   "execution_count": 113,
   "metadata": {},
   "outputs": [
    {
     "data": {
      "text/plain": [
       "<matplotlib.axes._subplots.AxesSubplot at 0x24567d47748>"
      ]
     },
     "execution_count": 113,
     "metadata": {},
     "output_type": "execute_result"
    },
    {
     "data": {
      "image/png": "[encoded data removed]",
      "text/plain": [
       "<Figure size 864x144 with 1 Axes>"
      ]
     },
     "metadata": {
      "needs_background": "light"
     },
     "output_type": "display_data"
    }
   ],
   "source": [
    "results_PM25.resid.plot(figsize=(12,2))"
   ]
  },
  {
   "cell_type": "code",
   "execution_count": 114,
   "metadata": {},
   "outputs": [],
   "source": [
    "train_PM25 = df_PM25.iloc[:366]\n",
    "test_PM25 = df_PM25.iloc[366:]"
   ]
  },
  {
   "cell_type": "code",
   "execution_count": 115,
   "metadata": {},
   "outputs": [],
   "source": [
    "scaler_PM25 = MinMaxScaler()\n"
   ]
  },
  {
   "cell_type": "code",
   "execution_count": 116,
   "metadata": {},
   "outputs": [
    {
     "data": {
      "text/plain": [
       "MinMaxScaler(copy=True, feature_range=(0, 1))"
      ]
     },
     "execution_count": 116,
     "metadata": {},
     "output_type": "execute_result"
    }
   ],
   "source": [
    "\n",
    "# IGPM25RE WARNING ITS JUST PM25NVERTING TO FLOATS\n",
    "# WE ONLY FIT TO TRAININ DATA, OTHERWISE WE ARE CHEATING ASSUMING INFO ABOUT TEST SET\n",
    "scaler_PM25.fit(train_PM25)\n",
    "\n"
   ]
  },
  {
   "cell_type": "code",
   "execution_count": 117,
   "metadata": {},
   "outputs": [
    {
     "data": {
      "text/plain": [
       "array([[0.32044875],\n",
       "       [0.19935666],\n",
       "       [0.21041578],\n",
       "       [0.25063803],\n",
       "       [0.23559124],\n",
       "       [0.27155997],\n",
       "       [0.20326457],\n",
       "       [0.06518503],\n",
       "       [1.        ],\n",
       "       [0.11707784],\n",
       "       [0.10219056],\n",
       "       [0.07507444],\n",
       "       [0.07892918],\n",
       "       [0.09291259],\n",
       "       [0.0899883 ],\n",
       "       [0.0758188 ],\n",
       "       [0.10976712],\n",
       "       [0.13744151],\n",
       "       [0.12340493],\n",
       "       [0.122953  ],\n",
       "       [0.11981604],\n",
       "       [0.10912909],\n",
       "       [0.09939919],\n",
       "       [0.09559762],\n",
       "       [0.06398873],\n",
       "       [0.05356763],\n",
       "       [0.06361655],\n",
       "       [0.09480009],\n",
       "       [0.06313803],\n",
       "       [0.07196406],\n",
       "       [0.05973522],\n",
       "       [0.08972246],\n",
       "       [0.07717461],\n",
       "       [0.04229583],\n",
       "       [0.06606231],\n",
       "       [0.07826457],\n",
       "       [0.06486601],\n",
       "       [0.06760421],\n",
       "       [0.08049766],\n",
       "       [0.0450872 ],\n",
       "       [0.02461718],\n",
       "       [0.0254413 ],\n",
       "       [0.02884411],\n",
       "       [0.06308486],\n",
       "       [0.05984156],\n",
       "       [0.05984156],\n",
       "       [0.06393556],\n",
       "       [0.07895576],\n",
       "       [0.22998192],\n",
       "       [0.06818907],\n",
       "       [0.06486601],\n",
       "       [0.07635049],\n",
       "       [0.06436091],\n",
       "       [0.07528711],\n",
       "       [0.0553222 ],\n",
       "       [0.10290834],\n",
       "       [0.15509358],\n",
       "       [0.09974479],\n",
       "       [0.10001063],\n",
       "       [0.08530944],\n",
       "       [0.07082093],\n",
       "       [0.16915674],\n",
       "       [0.0689866 ],\n",
       "       [0.06345704],\n",
       "       [0.05308911],\n",
       "       [0.06239366],\n",
       "       [0.06061251],\n",
       "       [0.0589111 ],\n",
       "       [0.06707252],\n",
       "       [0.06494577],\n",
       "       [0.32765313],\n",
       "       [0.07039558],\n",
       "       [0.06765738],\n",
       "       [0.06975755],\n",
       "       [0.06321778],\n",
       "       [0.05795406],\n",
       "       [0.07143237],\n",
       "       [0.09993088],\n",
       "       [0.09506593],\n",
       "       [0.06005423],\n",
       "       [0.04500744],\n",
       "       [0.04399724],\n",
       "       [0.04553913],\n",
       "       [0.06749787],\n",
       "       [0.06997023],\n",
       "       [0.06505211],\n",
       "       [0.05683752],\n",
       "       [0.06082518],\n",
       "       [0.08012548],\n",
       "       [0.06571672],\n",
       "       [0.10753403],\n",
       "       [0.17564334],\n",
       "       [0.09360379],\n",
       "       [0.06223416],\n",
       "       [0.0628456 ],\n",
       "       [0.04817099],\n",
       "       [0.05027116],\n",
       "       [0.03918545],\n",
       "       [0.04311995],\n",
       "       [0.03421416],\n",
       "       [0.02597299],\n",
       "       [0.02950872],\n",
       "       [0.0374043 ],\n",
       "       [0.05572097],\n",
       "       [0.12707359],\n",
       "       [0.06188856],\n",
       "       [0.05617291],\n",
       "       [0.05332837],\n",
       "       [0.06858783],\n",
       "       [0.0753137 ],\n",
       "       [0.06691302],\n",
       "       [0.06382922],\n",
       "       [0.06271268],\n",
       "       [0.06276584],\n",
       "       [0.04325287],\n",
       "       [0.04128562],\n",
       "       [0.04740004],\n",
       "       [0.04984581],\n",
       "       [0.03200766],\n",
       "       [0.05827308],\n",
       "       [0.06305827],\n",
       "       [0.04006274],\n",
       "       [0.06850808],\n",
       "       [0.07999256],\n",
       "       [0.03323054],\n",
       "       [0.03368248],\n",
       "       [0.04588473],\n",
       "       [0.04104636],\n",
       "       [0.07491493],\n",
       "       [0.04787856],\n",
       "       [0.04899511],\n",
       "       [0.0507231 ],\n",
       "       [0.0636963 ],\n",
       "       [0.07260208],\n",
       "       [0.05984156],\n",
       "       [0.06343046],\n",
       "       [0.07215015],\n",
       "       [0.08956295],\n",
       "       [0.06170247],\n",
       "       [0.05994789],\n",
       "       [0.06648766],\n",
       "       [0.08057741],\n",
       "       [0.05930987],\n",
       "       [0.05899085],\n",
       "       [0.07010315],\n",
       "       [0.08826031],\n",
       "       [0.09081242],\n",
       "       [0.04131221],\n",
       "       [0.03681944],\n",
       "       [0.08581455],\n",
       "       [0.06707252],\n",
       "       [0.09434815],\n",
       "       [0.05359422],\n",
       "       [0.0863994 ],\n",
       "       [0.06061251],\n",
       "       [0.        ],\n",
       "       [0.        ],\n",
       "       [0.        ],\n",
       "       [0.        ],\n",
       "       [0.        ],\n",
       "       [0.        ],\n",
       "       [0.        ],\n",
       "       [0.        ],\n",
       "       [0.09397597],\n",
       "       [0.11093684],\n",
       "       [0.06460017],\n",
       "       [0.0653977 ],\n",
       "       [0.07962037],\n",
       "       [0.        ],\n",
       "       [0.        ],\n",
       "       [0.28365589],\n",
       "       [0.        ],\n",
       "       [0.        ],\n",
       "       [0.02126755],\n",
       "       [0.02514887],\n",
       "       [0.04468843],\n",
       "       [0.0278339 ],\n",
       "       [0.0302265 ],\n",
       "       [0.06826882],\n",
       "       [0.16679073],\n",
       "       [0.0891376 ],\n",
       "       [0.06821565],\n",
       "       [0.03599532],\n",
       "       [0.03570289],\n",
       "       [0.05569439],\n",
       "       [0.05130795],\n",
       "       [0.16463739],\n",
       "       [0.10644407],\n",
       "       [0.27360698],\n",
       "       [0.57297427],\n",
       "       [0.54543279],\n",
       "       [0.26714696],\n",
       "       [0.11550936],\n",
       "       [0.13547427],\n",
       "       [0.13994045],\n",
       "       [0.07387814],\n",
       "       [0.0587516 ],\n",
       "       [0.04128562],\n",
       "       [0.10476925],\n",
       "       [0.03264568],\n",
       "       [0.07502127],\n",
       "       [0.06872076],\n",
       "       [0.06537112],\n",
       "       [0.07592514],\n",
       "       [0.11207997],\n",
       "       [0.11516376],\n",
       "       [0.10665674],\n",
       "       [0.08849957],\n",
       "       [0.12010846],\n",
       "       [0.04099319],\n",
       "       [0.0305721 ],\n",
       "       [0.02921629],\n",
       "       [0.05561463],\n",
       "       [0.05338154],\n",
       "       [0.02998724],\n",
       "       [0.03208741],\n",
       "       [0.04503403],\n",
       "       [0.08514994],\n",
       "       [0.09607614],\n",
       "       [0.07467567],\n",
       "       [0.07196406],\n",
       "       [0.0524245 ],\n",
       "       [0.04482135],\n",
       "       [0.04338579],\n",
       "       [0.05441833],\n",
       "       [0.05056359],\n",
       "       [0.05295619],\n",
       "       [0.04553913],\n",
       "       [0.04641642],\n",
       "       [0.05378031],\n",
       "       [0.05803382],\n",
       "       [0.07480859],\n",
       "       [0.10490217],\n",
       "       [0.10468949],\n",
       "       [0.07938111],\n",
       "       [0.0568641 ],\n",
       "       [0.12638239],\n",
       "       [0.07153871],\n",
       "       [0.07193747],\n",
       "       [0.09695342],\n",
       "       [0.08390047],\n",
       "       [0.0705285 ],\n",
       "       [0.07379838],\n",
       "       [0.28269885],\n",
       "       [0.07573905],\n",
       "       [0.06582305],\n",
       "       [0.11524351],\n",
       "       [0.0500319 ],\n",
       "       [0.08826031],\n",
       "       [0.05909719],\n",
       "       [0.03235325],\n",
       "       [0.03665993],\n",
       "       [0.04947363],\n",
       "       [0.0455923 ],\n",
       "       [0.05829966],\n",
       "       [0.03610166],\n",
       "       [0.0329647 ],\n",
       "       [0.06611548],\n",
       "       [0.09908018],\n",
       "       [0.06622182],\n",
       "       [0.05776797],\n",
       "       [0.06167588],\n",
       "       [0.04463526],\n",
       "       [0.12723309],\n",
       "       [0.04779881],\n",
       "       [0.06537112],\n",
       "       [0.04144513],\n",
       "       [0.0476393 ],\n",
       "       [0.05133454],\n",
       "       [0.09950553],\n",
       "       [0.07044875],\n",
       "       [0.08310293],\n",
       "       [0.09913335],\n",
       "       [0.0705285 ],\n",
       "       [0.07448958],\n",
       "       [0.09275308],\n",
       "       [0.09176946],\n",
       "       [0.06611548],\n",
       "       [0.06712569],\n",
       "       [0.06271268],\n",
       "       [0.06981072],\n",
       "       [0.09947895],\n",
       "       [0.09541153],\n",
       "       [0.07914185],\n",
       "       [0.07143237],\n",
       "       [0.06220757],\n",
       "       [0.09163654],\n",
       "       [0.06210123],\n",
       "       [0.07884943],\n",
       "       [0.11489792],\n",
       "       [0.10086134],\n",
       "       [0.17582943],\n",
       "       [0.07744045],\n",
       "       [0.08273075],\n",
       "       [0.08174713],\n",
       "       [0.09551786],\n",
       "       [0.05872501],\n",
       "       [0.06257975],\n",
       "       [0.06680668],\n",
       "       [0.06351021],\n",
       "       [0.08706402],\n",
       "       [0.08549553],\n",
       "       [0.08916419],\n",
       "       [0.08294343],\n",
       "       [0.09227456],\n",
       "       [0.08778179],\n",
       "       [0.11710442],\n",
       "       [0.13358677],\n",
       "       [0.13127393],\n",
       "       [0.13893024],\n",
       "       [0.09931944],\n",
       "       [0.08140153],\n",
       "       [0.07853041],\n",
       "       [0.07063484],\n",
       "       [0.07446299],\n",
       "       [0.08871225],\n",
       "       [0.07276159],\n",
       "       [0.0662484 ],\n",
       "       [0.04718737],\n",
       "       [0.05681093],\n",
       "       [0.05880476],\n",
       "       [0.05702361],\n",
       "       [0.07331986],\n",
       "       [0.08217248],\n",
       "       [0.0713792 ],\n",
       "       [0.0689866 ],\n",
       "       [0.07371863],\n",
       "       [0.08001914],\n",
       "       [0.08613356],\n",
       "       [0.06845491],\n",
       "       [0.06494577],\n",
       "       [0.05872501],\n",
       "       [0.05425883],\n",
       "       [0.05420566],\n",
       "       [0.07023607],\n",
       "       [0.05837941],\n",
       "       [0.06204806],\n",
       "       [0.06792322],\n",
       "       [0.08732986],\n",
       "       [0.07526053],\n",
       "       [0.08089643],\n",
       "       [0.06725861],\n",
       "       [0.04957997],\n",
       "       [0.05183964],\n",
       "       [0.05742237],\n",
       "       [0.21450978],\n",
       "       [0.06683326],\n",
       "       [0.05915036],\n",
       "       [0.05859209],\n",
       "       [0.07592514],\n",
       "       [0.08451191],\n",
       "       [0.06380264],\n",
       "       [0.29498086],\n",
       "       [0.21682263],\n",
       "       [0.08057741],\n",
       "       [0.0512282 ],\n",
       "       [0.05093577],\n",
       "       [0.05194598],\n",
       "       [0.08291684],\n",
       "       [0.04705444],\n",
       "       [0.08927052],\n",
       "       [0.07682901],\n",
       "       [0.05082943],\n",
       "       [0.05024458],\n",
       "       [0.04585815],\n",
       "       [0.04205657]])"
      ]
     },
     "execution_count": 117,
     "metadata": {},
     "output_type": "execute_result"
    }
   ],
   "source": [
    "scaled_train_PM25 = scaler_PM25.transform(train_PM25)\n",
    "scaled_test_PM25 = scaler_PM25.transform(test_PM25)\n",
    "\n",
    "scaled_train_PM25\n",
    "\n"
   ]
  },
  {
   "cell_type": "code",
   "execution_count": 118,
   "metadata": {},
   "outputs": [
    {
     "data": {
      "text/plain": [
       "array([[0.32044875],\n",
       "       [0.19935666],\n",
       "       [0.21041578],\n",
       "       [0.25063803],\n",
       "       [0.23559124],\n",
       "       [0.27155997],\n",
       "       [0.20326457],\n",
       "       [0.06518503],\n",
       "       [1.        ],\n",
       "       [0.11707784],\n",
       "       [0.10219056],\n",
       "       [0.07507444],\n",
       "       [0.07892918],\n",
       "       [0.09291259],\n",
       "       [0.0899883 ],\n",
       "       [0.0758188 ],\n",
       "       [0.10976712],\n",
       "       [0.13744151],\n",
       "       [0.12340493],\n",
       "       [0.122953  ],\n",
       "       [0.11981604],\n",
       "       [0.10912909],\n",
       "       [0.09939919],\n",
       "       [0.09559762],\n",
       "       [0.06398873],\n",
       "       [0.05356763],\n",
       "       [0.06361655],\n",
       "       [0.09480009],\n",
       "       [0.06313803],\n",
       "       [0.07196406],\n",
       "       [0.05973522],\n",
       "       [0.08972246],\n",
       "       [0.07717461],\n",
       "       [0.04229583],\n",
       "       [0.06606231],\n",
       "       [0.07826457],\n",
       "       [0.06486601],\n",
       "       [0.06760421],\n",
       "       [0.08049766],\n",
       "       [0.0450872 ],\n",
       "       [0.02461718],\n",
       "       [0.0254413 ],\n",
       "       [0.02884411],\n",
       "       [0.06308486],\n",
       "       [0.05984156],\n",
       "       [0.05984156],\n",
       "       [0.06393556],\n",
       "       [0.07895576],\n",
       "       [0.22998192],\n",
       "       [0.06818907],\n",
       "       [0.06486601],\n",
       "       [0.07635049],\n",
       "       [0.06436091],\n",
       "       [0.07528711],\n",
       "       [0.0553222 ],\n",
       "       [0.10290834],\n",
       "       [0.15509358],\n",
       "       [0.09974479],\n",
       "       [0.10001063],\n",
       "       [0.08530944],\n",
       "       [0.07082093],\n",
       "       [0.16915674],\n",
       "       [0.0689866 ],\n",
       "       [0.06345704],\n",
       "       [0.05308911],\n",
       "       [0.06239366],\n",
       "       [0.06061251],\n",
       "       [0.0589111 ],\n",
       "       [0.06707252],\n",
       "       [0.06494577],\n",
       "       [0.32765313],\n",
       "       [0.07039558],\n",
       "       [0.06765738],\n",
       "       [0.06975755],\n",
       "       [0.06321778],\n",
       "       [0.05795406],\n",
       "       [0.07143237],\n",
       "       [0.09993088],\n",
       "       [0.09506593],\n",
       "       [0.06005423],\n",
       "       [0.04500744],\n",
       "       [0.04399724],\n",
       "       [0.04553913],\n",
       "       [0.06749787],\n",
       "       [0.06997023],\n",
       "       [0.06505211],\n",
       "       [0.05683752],\n",
       "       [0.06082518],\n",
       "       [0.08012548],\n",
       "       [0.06571672],\n",
       "       [0.10753403],\n",
       "       [0.17564334],\n",
       "       [0.09360379],\n",
       "       [0.06223416],\n",
       "       [0.0628456 ],\n",
       "       [0.04817099],\n",
       "       [0.05027116],\n",
       "       [0.03918545],\n",
       "       [0.04311995],\n",
       "       [0.03421416],\n",
       "       [0.02597299],\n",
       "       [0.02950872],\n",
       "       [0.0374043 ],\n",
       "       [0.05572097],\n",
       "       [0.12707359],\n",
       "       [0.06188856],\n",
       "       [0.05617291],\n",
       "       [0.05332837],\n",
       "       [0.06858783],\n",
       "       [0.0753137 ],\n",
       "       [0.06691302],\n",
       "       [0.06382922],\n",
       "       [0.06271268],\n",
       "       [0.06276584],\n",
       "       [0.04325287],\n",
       "       [0.04128562],\n",
       "       [0.04740004],\n",
       "       [0.04984581],\n",
       "       [0.03200766],\n",
       "       [0.05827308],\n",
       "       [0.06305827],\n",
       "       [0.04006274],\n",
       "       [0.06850808],\n",
       "       [0.07999256],\n",
       "       [0.03323054],\n",
       "       [0.03368248],\n",
       "       [0.04588473],\n",
       "       [0.04104636],\n",
       "       [0.07491493],\n",
       "       [0.04787856],\n",
       "       [0.04899511],\n",
       "       [0.0507231 ],\n",
       "       [0.0636963 ],\n",
       "       [0.07260208],\n",
       "       [0.05984156],\n",
       "       [0.06343046],\n",
       "       [0.07215015],\n",
       "       [0.08956295],\n",
       "       [0.06170247],\n",
       "       [0.05994789],\n",
       "       [0.06648766],\n",
       "       [0.08057741],\n",
       "       [0.05930987],\n",
       "       [0.05899085],\n",
       "       [0.07010315],\n",
       "       [0.08826031],\n",
       "       [0.09081242],\n",
       "       [0.04131221],\n",
       "       [0.03681944],\n",
       "       [0.08581455],\n",
       "       [0.06707252],\n",
       "       [0.09434815],\n",
       "       [0.05359422],\n",
       "       [0.0863994 ],\n",
       "       [0.06061251],\n",
       "       [0.        ],\n",
       "       [0.        ],\n",
       "       [0.        ],\n",
       "       [0.        ],\n",
       "       [0.        ],\n",
       "       [0.        ],\n",
       "       [0.        ],\n",
       "       [0.        ],\n",
       "       [0.09397597],\n",
       "       [0.11093684],\n",
       "       [0.06460017],\n",
       "       [0.0653977 ],\n",
       "       [0.07962037],\n",
       "       [0.        ],\n",
       "       [0.        ],\n",
       "       [0.28365589],\n",
       "       [0.        ],\n",
       "       [0.        ],\n",
       "       [0.02126755],\n",
       "       [0.02514887],\n",
       "       [0.04468843],\n",
       "       [0.0278339 ],\n",
       "       [0.0302265 ],\n",
       "       [0.06826882],\n",
       "       [0.16679073],\n",
       "       [0.0891376 ],\n",
       "       [0.06821565],\n",
       "       [0.03599532],\n",
       "       [0.03570289],\n",
       "       [0.05569439],\n",
       "       [0.05130795],\n",
       "       [0.16463739],\n",
       "       [0.10644407],\n",
       "       [0.27360698],\n",
       "       [0.57297427],\n",
       "       [0.54543279],\n",
       "       [0.26714696],\n",
       "       [0.11550936],\n",
       "       [0.13547427],\n",
       "       [0.13994045],\n",
       "       [0.07387814],\n",
       "       [0.0587516 ],\n",
       "       [0.04128562],\n",
       "       [0.10476925],\n",
       "       [0.03264568],\n",
       "       [0.07502127],\n",
       "       [0.06872076],\n",
       "       [0.06537112],\n",
       "       [0.07592514],\n",
       "       [0.11207997],\n",
       "       [0.11516376],\n",
       "       [0.10665674],\n",
       "       [0.08849957],\n",
       "       [0.12010846],\n",
       "       [0.04099319],\n",
       "       [0.0305721 ],\n",
       "       [0.02921629],\n",
       "       [0.05561463],\n",
       "       [0.05338154],\n",
       "       [0.02998724],\n",
       "       [0.03208741],\n",
       "       [0.04503403],\n",
       "       [0.08514994],\n",
       "       [0.09607614],\n",
       "       [0.07467567],\n",
       "       [0.07196406],\n",
       "       [0.0524245 ],\n",
       "       [0.04482135],\n",
       "       [0.04338579],\n",
       "       [0.05441833],\n",
       "       [0.05056359],\n",
       "       [0.05295619],\n",
       "       [0.04553913],\n",
       "       [0.04641642],\n",
       "       [0.05378031],\n",
       "       [0.05803382],\n",
       "       [0.07480859],\n",
       "       [0.10490217],\n",
       "       [0.10468949],\n",
       "       [0.07938111],\n",
       "       [0.0568641 ],\n",
       "       [0.12638239],\n",
       "       [0.07153871],\n",
       "       [0.07193747],\n",
       "       [0.09695342],\n",
       "       [0.08390047],\n",
       "       [0.0705285 ],\n",
       "       [0.07379838],\n",
       "       [0.28269885],\n",
       "       [0.07573905],\n",
       "       [0.06582305],\n",
       "       [0.11524351],\n",
       "       [0.0500319 ],\n",
       "       [0.08826031],\n",
       "       [0.05909719],\n",
       "       [0.03235325],\n",
       "       [0.03665993],\n",
       "       [0.04947363],\n",
       "       [0.0455923 ],\n",
       "       [0.05829966],\n",
       "       [0.03610166],\n",
       "       [0.0329647 ],\n",
       "       [0.06611548],\n",
       "       [0.09908018],\n",
       "       [0.06622182],\n",
       "       [0.05776797],\n",
       "       [0.06167588],\n",
       "       [0.04463526],\n",
       "       [0.12723309],\n",
       "       [0.04779881],\n",
       "       [0.06537112],\n",
       "       [0.04144513],\n",
       "       [0.0476393 ],\n",
       "       [0.05133454],\n",
       "       [0.09950553],\n",
       "       [0.07044875],\n",
       "       [0.08310293],\n",
       "       [0.09913335],\n",
       "       [0.0705285 ],\n",
       "       [0.07448958],\n",
       "       [0.09275308],\n",
       "       [0.09176946],\n",
       "       [0.06611548],\n",
       "       [0.06712569],\n",
       "       [0.06271268],\n",
       "       [0.06981072],\n",
       "       [0.09947895],\n",
       "       [0.09541153],\n",
       "       [0.07914185],\n",
       "       [0.07143237],\n",
       "       [0.06220757],\n",
       "       [0.09163654],\n",
       "       [0.06210123],\n",
       "       [0.07884943],\n",
       "       [0.11489792],\n",
       "       [0.10086134],\n",
       "       [0.17582943],\n",
       "       [0.07744045],\n",
       "       [0.08273075],\n",
       "       [0.08174713],\n",
       "       [0.09551786],\n",
       "       [0.05872501],\n",
       "       [0.06257975],\n",
       "       [0.06680668],\n",
       "       [0.06351021],\n",
       "       [0.08706402],\n",
       "       [0.08549553],\n",
       "       [0.08916419],\n",
       "       [0.08294343],\n",
       "       [0.09227456],\n",
       "       [0.08778179],\n",
       "       [0.11710442],\n",
       "       [0.13358677],\n",
       "       [0.13127393],\n",
       "       [0.13893024],\n",
       "       [0.09931944],\n",
       "       [0.08140153],\n",
       "       [0.07853041],\n",
       "       [0.07063484],\n",
       "       [0.07446299],\n",
       "       [0.08871225],\n",
       "       [0.07276159],\n",
       "       [0.0662484 ],\n",
       "       [0.04718737],\n",
       "       [0.05681093],\n",
       "       [0.05880476],\n",
       "       [0.05702361],\n",
       "       [0.07331986],\n",
       "       [0.08217248],\n",
       "       [0.0713792 ],\n",
       "       [0.0689866 ],\n",
       "       [0.07371863],\n",
       "       [0.08001914],\n",
       "       [0.08613356],\n",
       "       [0.06845491],\n",
       "       [0.06494577],\n",
       "       [0.05872501],\n",
       "       [0.05425883],\n",
       "       [0.05420566],\n",
       "       [0.07023607],\n",
       "       [0.05837941],\n",
       "       [0.06204806],\n",
       "       [0.06792322],\n",
       "       [0.08732986],\n",
       "       [0.07526053],\n",
       "       [0.08089643],\n",
       "       [0.06725861],\n",
       "       [0.04957997],\n",
       "       [0.05183964],\n",
       "       [0.05742237],\n",
       "       [0.21450978],\n",
       "       [0.06683326],\n",
       "       [0.05915036],\n",
       "       [0.05859209],\n",
       "       [0.07592514],\n",
       "       [0.08451191],\n",
       "       [0.06380264],\n",
       "       [0.29498086],\n",
       "       [0.21682263],\n",
       "       [0.08057741],\n",
       "       [0.0512282 ],\n",
       "       [0.05093577],\n",
       "       [0.05194598],\n",
       "       [0.08291684],\n",
       "       [0.04705444],\n",
       "       [0.08927052],\n",
       "       [0.07682901],\n",
       "       [0.05082943],\n",
       "       [0.05024458],\n",
       "       [0.04585815],\n",
       "       [0.04205657]])"
      ]
     },
     "execution_count": 118,
     "metadata": {},
     "output_type": "execute_result"
    }
   ],
   "source": [
    "# define generator\n",
    "n_input = 2\n",
    "n_features = 1\n",
    "generator_PM25 = TimeseriesGenerator(scaled_train_PM25, scaled_train_PM25, length=n_input, batch_size=1)\n",
    "\n",
    "\n",
    "scaled_train_PM25\n",
    "\n"
   ]
  },
  {
   "cell_type": "code",
   "execution_count": 119,
   "metadata": {},
   "outputs": [
    {
     "name": "stdout",
     "output_type": "stream",
     "text": [
      "Given the Array: \n",
      "[0.32044875 0.19935666 0.21041578 0.25063803 0.23559124 0.27155997\n",
      " 0.20326457]\n",
      "Predict this y: \n",
      " [[0.06518503]]\n"
     ]
    }
   ],
   "source": [
    "\n",
    "n_input = 7\n",
    "generator_PM25 = TimeseriesGenerator(scaled_train_PM25, scaled_train_PM25, length=n_input, batch_size=1)\n",
    "\n",
    "# What does the first batch look like?\n",
    "X,y = generator_PM25[0]\n",
    "\n",
    "print(f'Given the Array: \\n{X.flatten()}')\n",
    "print(f'Predict this y: \\n {y}')\n",
    "\n",
    "\n"
   ]
  },
  {
   "cell_type": "code",
   "execution_count": 120,
   "metadata": {},
   "outputs": [],
   "source": [
    "# define model\n",
    "model_PM25 = Sequential()\n",
    "model_PM25.add(LSTM(100, activation='relu', input_shape=(n_input, n_features)))\n",
    "model_PM25.add(Dense(1))\n",
    "model_PM25.compile(optimizer='adam', loss='mse')\n",
    "\n",
    "\n"
   ]
  },
  {
   "cell_type": "code",
   "execution_count": 121,
   "metadata": {},
   "outputs": [
    {
     "name": "stdout",
     "output_type": "stream",
     "text": [
      "Model: \"sequential_2\"\n",
      "_________________________________________________________________\n",
      "Layer (type)                 Output Shape              Param #   \n",
      "=================================================================\n",
      "lstm_2 (LSTM)                (None, 100)               40800     \n",
      "_________________________________________________________________\n",
      "dense_2 (Dense)              (None, 1)                 101       \n",
      "=================================================================\n",
      "Total params: 40,901\n",
      "Trainable params: 40,901\n",
      "Non-trainable params: 0\n",
      "_________________________________________________________________\n"
     ]
    }
   ],
   "source": [
    "model_PM25.summary()\n"
   ]
  },
  {
   "cell_type": "code",
   "execution_count": 122,
   "metadata": {},
   "outputs": [
    {
     "name": "stdout",
     "output_type": "stream",
     "text": [
      "Epoch 1/50\n",
      "359/359 [==============================] - 1s 4ms/step - loss: 0.0053\n",
      "Epoch 2/50\n",
      "359/359 [==============================] - 1s 4ms/step - loss: 0.0051\n",
      "Epoch 3/50\n",
      "359/359 [==============================] - 2s 4ms/step - loss: 0.0051\n",
      "Epoch 4/50\n",
      "359/359 [==============================] - 2s 5ms/step - loss: 0.0051\n",
      "Epoch 5/50\n",
      "359/359 [==============================] - 2s 5ms/step - loss: 0.0050\n",
      "Epoch 6/50\n",
      "359/359 [==============================] - 2s 5ms/step - loss: 0.0050\n",
      "Epoch 7/50\n",
      "359/359 [==============================] - 2s 5ms/step - loss: 0.0050\n",
      "Epoch 8/50\n",
      "359/359 [==============================] - 2s 5ms/step - loss: 0.0050\n",
      "Epoch 9/50\n",
      "359/359 [==============================] - 1s 4ms/step - loss: 0.0050\n",
      "Epoch 10/50\n",
      "359/359 [==============================] - 2s 6ms/step - loss: 0.0049\n",
      "Epoch 11/50\n",
      "359/359 [==============================] - 2s 5ms/step - loss: 0.0049\n",
      "Epoch 12/50\n",
      "359/359 [==============================] - 2s 5ms/step - loss: 0.0049\n",
      "Epoch 13/50\n",
      "359/359 [==============================] - 2s 5ms/step - loss: 0.0049\n",
      "Epoch 14/50\n",
      "359/359 [==============================] - 1s 4ms/step - loss: 0.0049\n",
      "Epoch 15/50\n",
      "359/359 [==============================] - 2s 5ms/step - loss: 0.0048\n",
      "Epoch 16/50\n",
      "359/359 [==============================] - 2s 5ms/step - loss: 0.0048\n",
      "Epoch 17/50\n",
      "359/359 [==============================] - 2s 5ms/step - loss: 0.0049\n",
      "Epoch 18/50\n",
      "359/359 [==============================] - 2s 5ms/step - loss: 0.0048\n",
      "Epoch 19/50\n",
      "359/359 [==============================] - 2s 5ms/step - loss: 0.0049\n",
      "Epoch 20/50\n",
      "359/359 [==============================] - 2s 6ms/step - loss: 0.0049\n",
      "Epoch 21/50\n",
      "359/359 [==============================] - 2s 5ms/step - loss: 0.0048\n",
      "Epoch 22/50\n",
      "359/359 [==============================] - 1s 4ms/step - loss: 0.0048\n",
      "Epoch 23/50\n",
      "359/359 [==============================] - 2s 4ms/step - loss: 0.0048\n",
      "Epoch 24/50\n",
      "359/359 [==============================] - 2s 5ms/step - loss: 0.0047\n",
      "Epoch 25/50\n",
      "359/359 [==============================] - 2s 5ms/step - loss: 0.0047\n",
      "Epoch 26/50\n",
      "359/359 [==============================] - 1s 4ms/step - loss: 0.0047\n",
      "Epoch 27/50\n",
      "359/359 [==============================] - 2s 4ms/step - loss: 0.0047\n",
      "Epoch 28/50\n",
      "359/359 [==============================] - 2s 5ms/step - loss: 0.0046\n",
      "Epoch 29/50\n",
      "359/359 [==============================] - 1s 4ms/step - loss: 0.0046\n",
      "Epoch 30/50\n",
      "359/359 [==============================] - 2s 4ms/step - loss: 0.0046\n",
      "Epoch 31/50\n",
      "359/359 [==============================] - 1s 4ms/step - loss: 0.0046\n",
      "Epoch 32/50\n",
      "359/359 [==============================] - 2s 4ms/step - loss: 0.0047\n",
      "Epoch 33/50\n",
      "359/359 [==============================] - 2s 4ms/step - loss: 0.0046\n",
      "Epoch 34/50\n",
      "359/359 [==============================] - 1s 4ms/step - loss: 0.0045\n",
      "Epoch 35/50\n",
      "359/359 [==============================] - 2s 5ms/step - loss: 0.0045\n",
      "Epoch 36/50\n",
      "359/359 [==============================] - 2s 5ms/step - loss: 0.0045\n",
      "Epoch 37/50\n",
      "359/359 [==============================] - 2s 5ms/step - loss: 0.0044\n",
      "Epoch 38/50\n",
      "359/359 [==============================] - 2s 5ms/step - loss: 0.0045\n",
      "Epoch 39/50\n",
      "359/359 [==============================] - 2s 5ms/step - loss: 0.0044\n",
      "Epoch 40/50\n",
      "359/359 [==============================] - 2s 5ms/step - loss: 0.0043\n",
      "Epoch 41/50\n",
      "359/359 [==============================] - 2s 5ms/step - loss: 0.0043\n",
      "Epoch 42/50\n",
      "359/359 [==============================] - 1s 4ms/step - loss: 0.0046\n",
      "Epoch 43/50\n",
      "359/359 [==============================] - 1s 4ms/step - loss: 0.0045\n",
      "Epoch 44/50\n",
      "359/359 [==============================] - 2s 5ms/step - loss: 0.0041\n",
      "Epoch 45/50\n",
      "359/359 [==============================] - 2s 5ms/step - loss: 0.0042\n",
      "Epoch 46/50\n",
      "359/359 [==============================] - 2s 5ms/step - loss: 0.0044\n",
      "Epoch 47/50\n",
      "359/359 [==============================] - 2s 6ms/step - loss: 0.0042\n",
      "Epoch 48/50\n",
      "359/359 [==============================] - 2s 5ms/step - loss: 0.0041\n",
      "Epoch 49/50\n",
      "359/359 [==============================] - 2s 5ms/step - loss: 0.0040\n",
      "Epoch 50/50\n",
      "359/359 [==============================] - 1s 4ms/step - loss: 0.0042\n"
     ]
    },
    {
     "data": {
      "text/plain": [
       "<tensorflow.python.keras.callbacks.History at 0x24567b2b128>"
      ]
     },
     "execution_count": 122,
     "metadata": {},
     "output_type": "execute_result"
    }
   ],
   "source": [
    "# fit model\n",
    "model_PM25.fit_generator(generator_PM25,epochs=50)\n",
    "\n"
   ]
  },
  {
   "cell_type": "code",
   "execution_count": 123,
   "metadata": {},
   "outputs": [
    {
     "data": {
      "text/plain": [
       "dict_keys(['loss'])"
      ]
     },
     "execution_count": 123,
     "metadata": {},
     "output_type": "execute_result"
    }
   ],
   "source": [
    "model_PM25.history.history.keys()\n",
    "\n"
   ]
  },
  {
   "cell_type": "code",
   "execution_count": 124,
   "metadata": {},
   "outputs": [
    {
     "data": {
      "text/plain": [
       "[<matplotlib.lines.Line2D at 0x245690b9da0>]"
      ]
     },
     "execution_count": 124,
     "metadata": {},
     "output_type": "execute_result"
    },
    {
     "data": {
      "image/png": "[encoded data removed]",
      "text/plain": [
       "<Figure size 432x288 with 1 Axes>"
      ]
     },
     "metadata": {
      "needs_background": "light"
     },
     "output_type": "display_data"
    }
   ],
   "source": [
    "loss_per_epoch = model_PM25.history.history['loss']\n",
    "plt.plot(range(len(loss_per_epoch)),loss_per_epoch)"
   ]
  },
  {
   "cell_type": "code",
   "execution_count": 125,
   "metadata": {},
   "outputs": [
    {
     "data": {
      "text/plain": [
       "array([[0.04705444],\n",
       "       [0.08927052],\n",
       "       [0.07682901],\n",
       "       [0.05082943],\n",
       "       [0.05024458],\n",
       "       [0.04585815],\n",
       "       [0.04205657]])"
      ]
     },
     "execution_count": 125,
     "metadata": {},
     "output_type": "execute_result"
    }
   ],
   "source": [
    "first_eval_batch_PM25 = scaled_train_PM25[-7:]\n",
    "\n",
    "first_eval_batch_PM25"
   ]
  },
  {
   "cell_type": "code",
   "execution_count": 126,
   "metadata": {},
   "outputs": [
    {
     "data": {
      "text/plain": [
       "array([[0.0544068]], dtype=float32)"
      ]
     },
     "execution_count": 126,
     "metadata": {},
     "output_type": "execute_result"
    }
   ],
   "source": [
    "first_eval_batch_PM25 = first_eval_batch_PM25.reshape((1, n_input, n_features))\n",
    "\n",
    "model_PM25.predict(first_eval_batch_PM25)"
   ]
  },
  {
   "cell_type": "code",
   "execution_count": 127,
   "metadata": {},
   "outputs": [
    {
     "data": {
      "text/plain": [
       "array([0.0823054])"
      ]
     },
     "execution_count": 127,
     "metadata": {},
     "output_type": "execute_result"
    }
   ],
   "source": [
    "scaled_test_PM25[0]\n",
    "\n"
   ]
  },
  {
   "cell_type": "code",
   "execution_count": 128,
   "metadata": {},
   "outputs": [
    {
     "data": {
      "text/plain": [
       "(1, 7, 1)"
      ]
     },
     "execution_count": 128,
     "metadata": {},
     "output_type": "execute_result"
    }
   ],
   "source": [
    "test_predictions_PM25 = []\n",
    "\n",
    "first_eval_batch_PM25 = scaled_train_PM25[-n_input:]\n",
    "current_batch_PM25 = first_eval_batch_PM25.reshape((1, n_input, n_features))\n",
    "\n",
    "current_batch_PM25.shape\n",
    "\n"
   ]
  },
  {
   "cell_type": "code",
   "execution_count": 129,
   "metadata": {},
   "outputs": [
    {
     "data": {
      "text/plain": [
       "array([[[0.04705444],\n",
       "        [0.08927052],\n",
       "        [0.07682901],\n",
       "        [0.05082943],\n",
       "        [0.05024458],\n",
       "        [0.04585815],\n",
       "        [0.04205657]]])"
      ]
     },
     "execution_count": 129,
     "metadata": {},
     "output_type": "execute_result"
    }
   ],
   "source": [
    "current_batch_PM25"
   ]
  },
  {
   "cell_type": "code",
   "execution_count": 130,
   "metadata": {},
   "outputs": [
    {
     "data": {
      "text/plain": [
       "array([[[8.92705232e-02],\n",
       "        [7.68290089e-02],\n",
       "        [5.08294343e-02],\n",
       "        [5.02445768e-02],\n",
       "        [4.58581455e-02],\n",
       "        [4.20565717e-02],\n",
       "        [9.90000000e+01]]])"
      ]
     },
     "execution_count": 130,
     "metadata": {},
     "output_type": "execute_result"
    }
   ],
   "source": [
    "np.append(current_batch_PM25[:,1:,:],[[[99]]],axis=1)"
   ]
  },
  {
   "cell_type": "code",
   "execution_count": 131,
   "metadata": {},
   "outputs": [
    {
     "data": {
      "text/plain": [
       "[array([0.0544068], dtype=float32),\n",
       " array([0.06100041], dtype=float32),\n",
       " array([0.06694075], dtype=float32),\n",
       " array([0.07555207], dtype=float32),\n",
       " array([0.0847946], dtype=float32),\n",
       " array([0.09566732], dtype=float32),\n",
       " array([0.10389522], dtype=float32)]"
      ]
     },
     "execution_count": 131,
     "metadata": {},
     "output_type": "execute_result"
    }
   ],
   "source": [
    "test_predictions_PM25 = []\n",
    "\n",
    "first_eval_batch_PM25 = scaled_train_PM25[-n_input:]\n",
    "current_batch_PM25 = first_eval_batch_PM25.reshape((1, n_input, n_features))\n",
    "\n",
    "for i in range(len(test_PM25)):\n",
    "    \n",
    "    # get prediction 1 time stamp ahead ([0] is for grabbing just the number instead of [array])\n",
    "    current_pred_PM25 = model_PM25.predict(current_batch_PM25)[0]\n",
    "    \n",
    "    # store prediction\n",
    "    test_predictions_PM25.append(current_pred_PM25) \n",
    "    \n",
    "    # update batch to PM25w include prediction and drop first value\n",
    "    current_batch_PM25 = np.append(current_batch_PM25[:,1:,:],[[current_pred_PM25]],axis=1)\n",
    "\n",
    "test_predictions_PM25\n",
    "\n"
   ]
  },
  {
   "cell_type": "code",
   "execution_count": 132,
   "metadata": {},
   "outputs": [
    {
     "data": {
      "text/plain": [
       "array([[0.0823054 ],\n",
       "       [0.05226499],\n",
       "       [0.06497235],\n",
       "       [0.07600489],\n",
       "       [0.07919502],\n",
       "       [0.06611548],\n",
       "       [0.0718843 ]])"
      ]
     },
     "execution_count": 132,
     "metadata": {},
     "output_type": "execute_result"
    }
   ],
   "source": [
    "scaled_test_PM25"
   ]
  },
  {
   "cell_type": "code",
   "execution_count": 133,
   "metadata": {},
   "outputs": [
    {
     "data": {
      "text/plain": [
       "array([[20.46566305],\n",
       "       [22.9459158 ],\n",
       "       [25.18043427],\n",
       "       [28.41966614],\n",
       "       [31.89633517],\n",
       "       [35.98621815],\n",
       "       [39.08122489]])"
      ]
     },
     "execution_count": 133,
     "metadata": {},
     "output_type": "execute_result"
    }
   ],
   "source": [
    "true_predictions_PM25 = scaler_PM25.inverse_transform(test_predictions_PM25)\n",
    "\n",
    "true_predictions_PM25\n"
   ]
  },
  {
   "cell_type": "code",
   "execution_count": 134,
   "metadata": {},
   "outputs": [
    {
     "data": {
      "text/html": [
       "<div>\n",
       "<style scoped>\n",
       "    .dataframe tbody tr th:only-of-type {\n",
       "        vertical-align: middle;\n",
       "    }\n",
       "\n",
       "    .dataframe tbody tr th {\n",
       "        vertical-align: top;\n",
       "    }\n",
       "\n",
       "    .dataframe thead th {\n",
       "        text-align: right;\n",
       "    }\n",
       "</style>\n",
       "<table border=\"1\" class=\"dataframe\">\n",
       "  <thead>\n",
       "    <tr style=\"text-align: right;\">\n",
       "      <th></th>\n",
       "      <th>PM25</th>\n",
       "    </tr>\n",
       "    <tr>\n",
       "      <th>From Date</th>\n",
       "      <th></th>\n",
       "    </tr>\n",
       "  </thead>\n",
       "  <tbody>\n",
       "    <tr>\n",
       "      <th>2020-05-01</th>\n",
       "      <td>30.96</td>\n",
       "    </tr>\n",
       "    <tr>\n",
       "      <th>2020-05-02</th>\n",
       "      <td>19.66</td>\n",
       "    </tr>\n",
       "    <tr>\n",
       "      <th>2020-05-03</th>\n",
       "      <td>24.44</td>\n",
       "    </tr>\n",
       "    <tr>\n",
       "      <th>2020-05-04</th>\n",
       "      <td>28.59</td>\n",
       "    </tr>\n",
       "    <tr>\n",
       "      <th>2020-05-05</th>\n",
       "      <td>29.79</td>\n",
       "    </tr>\n",
       "    <tr>\n",
       "      <th>2020-05-06</th>\n",
       "      <td>24.87</td>\n",
       "    </tr>\n",
       "    <tr>\n",
       "      <th>2020-05-07</th>\n",
       "      <td>27.04</td>\n",
       "    </tr>\n",
       "  </tbody>\n",
       "</table>\n",
       "</div>"
      ],
      "text/plain": [
       "             PM25\n",
       "From Date        \n",
       "2020-05-01  30.96\n",
       "2020-05-02  19.66\n",
       "2020-05-03  24.44\n",
       "2020-05-04  28.59\n",
       "2020-05-05  29.79\n",
       "2020-05-06  24.87\n",
       "2020-05-07  27.04"
      ]
     },
     "execution_count": 134,
     "metadata": {},
     "output_type": "execute_result"
    }
   ],
   "source": [
    "test_PM25"
   ]
  },
  {
   "cell_type": "code",
   "execution_count": 135,
   "metadata": {},
   "outputs": [
    {
     "name": "stderr",
     "output_type": "stream",
     "text": [
      "C:\\Users\\rahul\\.conda\\envs\\tsa_course\\lib\\site-packages\\ipykernel_launcher.py:2: SettingWithCopyWarning: \n",
      "A value is trying to be set on a copy of a slice from a DataFrame.\n",
      "Try using .loc[row_indexer,col_indexer] = value instead\n",
      "\n",
      "See the caveats in the documentation: http://pandas.pydata.org/pandas-docs/stable/indexing.html#indexing-view-versus-copy\n",
      "  \n"
     ]
    },
    {
     "data": {
      "text/html": [
       "<div>\n",
       "<style scoped>\n",
       "    .dataframe tbody tr th:only-of-type {\n",
       "        vertical-align: middle;\n",
       "    }\n",
       "\n",
       "    .dataframe tbody tr th {\n",
       "        vertical-align: top;\n",
       "    }\n",
       "\n",
       "    .dataframe thead th {\n",
       "        text-align: right;\n",
       "    }\n",
       "</style>\n",
       "<table border=\"1\" class=\"dataframe\">\n",
       "  <thead>\n",
       "    <tr style=\"text-align: right;\">\n",
       "      <th></th>\n",
       "      <th>PM25</th>\n",
       "      <th>Predictions_PM25</th>\n",
       "    </tr>\n",
       "    <tr>\n",
       "      <th>From Date</th>\n",
       "      <th></th>\n",
       "      <th></th>\n",
       "    </tr>\n",
       "  </thead>\n",
       "  <tbody>\n",
       "    <tr>\n",
       "      <th>2020-05-01</th>\n",
       "      <td>30.96</td>\n",
       "      <td>20.465663</td>\n",
       "    </tr>\n",
       "    <tr>\n",
       "      <th>2020-05-02</th>\n",
       "      <td>19.66</td>\n",
       "      <td>22.945916</td>\n",
       "    </tr>\n",
       "    <tr>\n",
       "      <th>2020-05-03</th>\n",
       "      <td>24.44</td>\n",
       "      <td>25.180434</td>\n",
       "    </tr>\n",
       "    <tr>\n",
       "      <th>2020-05-04</th>\n",
       "      <td>28.59</td>\n",
       "      <td>28.419666</td>\n",
       "    </tr>\n",
       "    <tr>\n",
       "      <th>2020-05-05</th>\n",
       "      <td>29.79</td>\n",
       "      <td>31.896335</td>\n",
       "    </tr>\n",
       "    <tr>\n",
       "      <th>2020-05-06</th>\n",
       "      <td>24.87</td>\n",
       "      <td>35.986218</td>\n",
       "    </tr>\n",
       "    <tr>\n",
       "      <th>2020-05-07</th>\n",
       "      <td>27.04</td>\n",
       "      <td>39.081225</td>\n",
       "    </tr>\n",
       "  </tbody>\n",
       "</table>\n",
       "</div>"
      ],
      "text/plain": [
       "             PM25  Predictions_PM25\n",
       "From Date                          \n",
       "2020-05-01  30.96         20.465663\n",
       "2020-05-02  19.66         22.945916\n",
       "2020-05-03  24.44         25.180434\n",
       "2020-05-04  28.59         28.419666\n",
       "2020-05-05  29.79         31.896335\n",
       "2020-05-06  24.87         35.986218\n",
       "2020-05-07  27.04         39.081225"
      ]
     },
     "execution_count": 135,
     "metadata": {},
     "output_type": "execute_result"
    }
   ],
   "source": [
    "# IGPM25RE WARNINGS\n",
    "test_PM25['Predictions_PM25'] = true_predictions_PM25\n",
    "\n",
    "test_PM25\n"
   ]
  },
  {
   "cell_type": "code",
   "execution_count": 136,
   "metadata": {},
   "outputs": [
    {
     "data": {
      "text/plain": [
       "<matplotlib.axes._subplots.AxesSubplot at 0x245666eef98>"
      ]
     },
     "execution_count": 136,
     "metadata": {},
     "output_type": "execute_result"
    },
    {
     "data": {
      "image/png": "[encoded data removed]",
      "text/plain": [
       "<Figure size 864x576 with 1 Axes>"
      ]
     },
     "metadata": {
      "needs_background": "light"
     },
     "output_type": "display_data"
    }
   ],
   "source": [
    "test_PM25.plot(figsize=(12,8))\n"
   ]
  },
  {
   "cell_type": "code",
   "execution_count": 137,
   "metadata": {},
   "outputs": [
    {
     "name": "stdout",
     "output_type": "stream",
     "text": [
      "MSE:  56.357665426285955 \n",
      " RMSE:  7.507174263748375\n"
     ]
    }
   ],
   "source": [
    "PM25_MSE = mean_squared_error(test_PM25['PM25'], test_PM25['Predictions_PM25'])\n",
    "\n",
    "PM25_RMSE = math.sqrt(PM25_MSE)\n",
    "print('MSE: ',PM25_MSE,'\\n','RMSE: ',PM25_RMSE)"
   ]
  }
 ],
 "metadata": {
  "kernelspec": {
   "display_name": "Python 3",
   "language": "python",
   "name": "python3"
  },
  "language_info": {
   "codemirror_mode": {
    "name": "ipython",
    "version": 3
   },
   "file_extension": ".py",
   "mimetype": "text/x-python",
   "name": "python",
   "nbconvert_exporter": "python",
   "pygments_lexer": "ipython3",
   "version": "3.7.2"
  }
 },
 "nbformat": 4,
 "nbformat_minor": 4
}
